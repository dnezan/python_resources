{
  "nbformat": 4,
  "nbformat_minor": 0,
  "metadata": {
    "colab": {
      "provenance": []
    },
    "kernelspec": {
      "name": "python3",
      "display_name": "Python 3"
    },
    "language_info": {
      "name": "python"
    }
  },
  "cells": [
    {
      "cell_type": "markdown",
      "source": [
        "# What is a class?\n",
        "<br>A class is a template that defines the attributes and behaviour of objects. As we learned in our methods notebook, the properties of an object are described by its attributes and the behaviour is described by its methods."
      ],
      "metadata": {
        "id": "dB2gTxKxv8gH"
      }
    },
    {
      "cell_type": "code",
      "execution_count": null,
      "metadata": {
        "colab": {
          "base_uri": "https://localhost:8080/"
        },
        "id": "dDI3EVG0tcBO",
        "outputId": "4afd5136-86cb-4149-a18e-b050196dd647"
      },
      "outputs": [
        {
          "output_type": "stream",
          "name": "stdout",
          "text": [
            "The average speed of the cars is: 3.3333333333333335\n"
          ]
        }
      ],
      "source": [
        "class Car:\n",
        "    #class object attribute\n",
        "    driver = 'Vijay'\n",
        "    \n",
        "    def __init__(self, make, model, year):\n",
        "        self.make = make\n",
        "        self.model = model\n",
        "        self.year = year\n",
        "        self.speed = 0\n",
        "    \n",
        "    def accelerate(self):\n",
        "        self.speed += 10\n",
        "    \n",
        "    def brake(self):\n",
        "        self.speed -= 10\n",
        "    \n",
        "    def get_speed(self):\n",
        "        return self.speed\n",
        "    \n",
        "def calculate_average_speed(speeds):\n",
        "    total_speed = sum(speeds)\n",
        "    average_speed = total_speed / len(speeds)\n",
        "    return average_speed\n",
        "    \n",
        "def main():\n",
        "    car1 = Car(\"Maruti\", \"Swift\", 2020)\n",
        "    car2 = Car(\"Honda\", \"Civic\", 2021)\n",
        "    car3 = Car(\"Mahindra\", \"Bolero\", 2019)\n",
        "    \n",
        "    car1.accelerate()\n",
        "    car1.accelerate()\n",
        "    car1.brake()\n",
        "    \n",
        "    car2.accelerate()\n",
        "    car2.accelerate()\n",
        "    car2.accelerate()\n",
        "    car2.brake()\n",
        "    car2.brake()\n",
        "    \n",
        "    car3.accelerate()\n",
        "    car3.brake()\n",
        "    car3.brake()\n",
        "    \n",
        "    speeds = [car1.get_speed(), car2.get_speed(), car3.get_speed()]\n",
        "    average_speed = calculate_average_speed(speeds)\n",
        "    print(\"The average speed of the cars is:\", average_speed)\n",
        "\n",
        "if __name__ == '__main__':\n",
        "    main()\n"
      ]
    },
    {
      "cell_type": "markdown",
      "source": [
        "# OOPS Concepts using Classes\n",
        "**Inheritence**"
      ],
      "metadata": {
        "id": "7G-MgY82z4jS"
      }
    },
    {
      "cell_type": "code",
      "source": [
        "class Car:\n",
        "    #class object attribute\n",
        "    driver = 'Vijay'\n",
        "    \n",
        "    def __init__(self, make, model, year):\n",
        "        self.make = make\n",
        "        self.model = model\n",
        "        self.year = year\n",
        "        self.speed = 0\n",
        "    \n",
        "    def accelerate(self):\n",
        "        self.speed += 10\n",
        "    \n",
        "    def brake(self):\n",
        "        self.speed -= 10\n",
        "    \n",
        "    def get_speed(self):\n",
        "        return self.speed\n",
        "\n",
        "class bmw(Car):\n",
        "    def __init__(self, make, model, year):\n",
        "        Car.__init__(self, make, model, year)\n",
        "    \n",
        "    def accelerate(self):\n",
        "        self.speed += 20\n",
        "    \n",
        "    def currentspeed(self):\n",
        "        print(\"The current speed is\",self.speed)\n",
        "\n",
        "\n",
        "x = bmw(\"bmw\", \"x-model\",2023)\n",
        "x.accelerate()\n",
        "x.accelerate()\n",
        "x.accelerate()\n",
        "x.brake()\n",
        "x.currentspeed()"
      ],
      "metadata": {
        "id": "tAFGxJTev73m",
        "colab": {
          "base_uri": "https://localhost:8080/"
        },
        "outputId": "5591b90a-defa-4e82-98c5-2fd444187c57"
      },
      "execution_count": 5,
      "outputs": [
        {
          "output_type": "stream",
          "name": "stdout",
          "text": [
            "The current speed is 50\n"
          ]
        }
      ]
    },
    {
      "cell_type": "markdown",
      "source": [
        "Excercises<br>\n",
        "1. Write a Python class that has two methods: get_string() and print_string(). get_String() accepts a string from the user and print_String() prints the string in upper case. "
      ],
      "metadata": {
        "id": "2R7fmSG17uNZ"
      }
    },
    {
      "cell_type": "markdown",
      "source": [
        "2. Write a Python class Inventory with attributes like item_id, item_name, stock_count, and price, and methods like add_item, update_item, and check_item_details.\n",
        "Use a dictionary to store the item details, where the key is the item_id and the value is a dictionary containing the item_name, stock_count, and price."
      ],
      "metadata": {
        "id": "Qd2qJ8W28efE"
      }
    },
    {
      "cell_type": "code",
      "source": [],
      "metadata": {
        "id": "2h6EXCMs7-ef"
      },
      "execution_count": 5,
      "outputs": []
    }
  ]
}