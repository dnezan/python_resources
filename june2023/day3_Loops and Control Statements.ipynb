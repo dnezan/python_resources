{
 "cells": [
  {
   "cell_type": "code",
   "execution_count": null,
   "id": "1b97fa2d",
   "metadata": {},
   "outputs": [],
   "source": [
    "#while loop syntax\n",
    "\n",
    "while expression:\n",
    "    statement(s)"
   ]
  },
  {
   "cell_type": "code",
   "execution_count": 5,
   "id": "60a15144",
   "metadata": {},
   "outputs": [
    {
     "name": "stdout",
     "output_type": "stream",
     "text": [
      "Hello Geek\n",
      "Hello Geek\n",
      "Hello Geek\n"
     ]
    }
   ],
   "source": [
    "# prints Hello Geek 3 Times\n",
    "count = 0\n",
    "while (count < 3):   \n",
    "    count = count+1\n",
    "    print(\"Hello Geek\")"
   ]
  },
  {
   "cell_type": "code",
   "execution_count": null,
   "id": "3adea389",
   "metadata": {},
   "outputs": [],
   "source": [
    "#for loop syntax\n",
    "\n",
    "for iterator_var in sequence:\n",
    "    statements(s)"
   ]
  },
  {
   "cell_type": "code",
   "execution_count": 6,
   "id": "37e5b367",
   "metadata": {},
   "outputs": [
    {
     "name": "stdout",
     "output_type": "stream",
     "text": [
      "\n",
      "Tuple Iteration\n",
      "python\n",
      "not\n",
      "java\n"
     ]
    }
   ],
   "source": [
    "print(\"\\nTuple Iteration\")\n",
    "t = (\"python\", \"not\", \"java\")\n",
    "for i in t:\n",
    "    print(i)"
   ]
  },
  {
   "cell_type": "code",
   "execution_count": null,
   "id": "2b2931d5",
   "metadata": {},
   "outputs": [],
   "source": [
    "#Nested loops\n",
    "\n",
    "for iterator_var in sequence:\n",
    "    for iterator_var in sequence:\n",
    "        statements(s)\n",
    "        statements(s)\n",
    "        \n",
    "while expression:\n",
    "    while expression: \n",
    "        statement(s)\n",
    "        statement(s)"
   ]
  },
  {
   "cell_type": "code",
   "execution_count": 7,
   "id": "3151d2eb",
   "metadata": {},
   "outputs": [
    {
     "name": "stdout",
     "output_type": "stream",
     "text": [
      "Current Letter : p\n",
      "Current Letter : y\n",
      "Current Letter : t\n",
      "Current Letter : h\n",
      "Current Letter : o\n",
      "Current Letter : n\n",
      "Current Letter : r\n",
      "Current Letter : o\n",
      "Current Letter : c\n",
      "Current Letter : k\n"
     ]
    }
   ],
   "source": [
    "#continue statement\n",
    "\n",
    "for letter in 'pythonrocks':\n",
    "    if letter == 'e' or letter == 's':\n",
    "        continue\n",
    "    print('Current Letter :', letter)"
   ]
  },
  {
   "cell_type": "code",
   "execution_count": 8,
   "id": "3fc67469",
   "metadata": {},
   "outputs": [
    {
     "name": "stdout",
     "output_type": "stream",
     "text": [
      "Current Letter : e\n"
     ]
    }
   ],
   "source": [
    "#break statement\n",
    "\n",
    "for letter in 'randomcode':\n",
    "    # break the loop as soon it sees 'e'\n",
    "    # or 's'\n",
    "    if letter == 'e' or letter == 's':\n",
    "        break\n",
    "print('Current Letter :', letter)"
   ]
  },
  {
   "cell_type": "code",
   "execution_count": 9,
   "id": "ec249841",
   "metadata": {},
   "outputs": [
    {
     "name": "stdout",
     "output_type": "stream",
     "text": [
      "Last Letter : g\n"
     ]
    }
   ],
   "source": [
    "# An empty loop\n",
    "for letter in 'thisisastring':\n",
    "    pass\n",
    "print('Last Letter :', letter)"
   ]
  },
  {
   "cell_type": "code",
   "execution_count": null,
   "id": "8f16804a",
   "metadata": {},
   "outputs": [],
   "source": [
    "Exercise: How to print a list in reverse order (from last to the first item) using while and for-in loops."
   ]
  }
 ],
 "metadata": {
  "kernelspec": {
   "display_name": "Python 3 (ipykernel)",
   "language": "python",
   "name": "python3"
  },
  "language_info": {
   "codemirror_mode": {
    "name": "ipython",
    "version": 3
   },
   "file_extension": ".py",
   "mimetype": "text/x-python",
   "name": "python",
   "nbconvert_exporter": "python",
   "pygments_lexer": "ipython3",
   "version": "3.9.16"
  }
 },
 "nbformat": 4,
 "nbformat_minor": 5
}
