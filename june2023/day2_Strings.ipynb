{
 "cells": [
  {
   "cell_type": "code",
   "execution_count": 13,
   "id": "e89b1c39",
   "metadata": {},
   "outputs": [
    {
     "name": "stdout",
     "output_type": "stream",
     "text": [
      "Python programming\n"
     ]
    }
   ],
   "source": [
    "# Strings\n",
    "\n",
    "# create a string using double quotes\n",
    "string1 = \"Python programming\"\n",
    "\n",
    "# create a string using single quotes\n",
    "string1 = 'Python programming'\n",
    "\n",
    "print(string1)"
   ]
  },
  {
   "cell_type": "code",
   "execution_count": 14,
   "id": "7c53a323",
   "metadata": {},
   "outputs": [
    {
     "name": "stdout",
     "output_type": "stream",
     "text": [
      "e\n"
     ]
    }
   ],
   "source": [
    "# Indexing\n",
    "\n",
    "greet = 'hello'\n",
    "\n",
    "# access 1st index element\n",
    "print(greet[1]) # \"e\""
   ]
  },
  {
   "cell_type": "code",
   "execution_count": 15,
   "id": "1bb77fa1",
   "metadata": {},
   "outputs": [
    {
     "name": "stdout",
     "output_type": "stream",
     "text": [
      "e\n"
     ]
    }
   ],
   "source": [
    "# Negative Indexing\n",
    "greet = 'hello'\n",
    "\n",
    "# access 4th last element\n",
    "print(greet[-4]) # \"e\""
   ]
  },
  {
   "cell_type": "code",
   "execution_count": 16,
   "id": "11a73d29",
   "metadata": {},
   "outputs": [
    {
     "name": "stdout",
     "output_type": "stream",
     "text": [
      "ell\n"
     ]
    }
   ],
   "source": [
    "# Slicing \n",
    "\n",
    "greet = 'Hello'\n",
    "\n",
    "# access character from 1st index to 3rd index\n",
    "print(greet[1:4])  # \"ell\""
   ]
  },
  {
   "cell_type": "code",
   "execution_count": 17,
   "id": "3f61e8b4",
   "metadata": {},
   "outputs": [
    {
     "ename": "TypeError",
     "evalue": "'str' object does not support item assignment",
     "output_type": "error",
     "traceback": [
      "\u001b[1;31m---------------------------------------------------------------------------\u001b[0m",
      "\u001b[1;31mTypeError\u001b[0m                                 Traceback (most recent call last)",
      "Cell \u001b[1;32mIn[17], line 4\u001b[0m\n\u001b[0;32m      1\u001b[0m \u001b[38;5;66;03m# Immutability of Strings\u001b[39;00m\n\u001b[0;32m      3\u001b[0m message \u001b[38;5;241m=\u001b[39m \u001b[38;5;124m'\u001b[39m\u001b[38;5;124mHola Amigos\u001b[39m\u001b[38;5;124m'\u001b[39m\n\u001b[1;32m----> 4\u001b[0m \u001b[43mmessage\u001b[49m\u001b[43m[\u001b[49m\u001b[38;5;241;43m0\u001b[39;49m\u001b[43m]\u001b[49m \u001b[38;5;241m=\u001b[39m \u001b[38;5;124m'\u001b[39m\u001b[38;5;124mA\u001b[39m\u001b[38;5;124m'\u001b[39m\n\u001b[0;32m      5\u001b[0m \u001b[38;5;28mprint\u001b[39m(message)\n",
      "\u001b[1;31mTypeError\u001b[0m: 'str' object does not support item assignment"
     ]
    }
   ],
   "source": [
    "# Immutability of Strings\n",
    "\n",
    "message = 'Hola Amigos'\n",
    "message[0] = 'A'\n",
    "print(message)"
   ]
  },
  {
   "cell_type": "code",
   "execution_count": 18,
   "id": "f68f7232",
   "metadata": {},
   "outputs": [
    {
     "name": "stdout",
     "output_type": "stream",
     "text": [
      "Hello Friends\n"
     ]
    }
   ],
   "source": [
    "message = 'Hola Amigos'\n",
    "\n",
    "# assign new string to message variable\n",
    "message = 'Hello Friends'\n",
    "\n",
    "print(message)"
   ]
  },
  {
   "cell_type": "code",
   "execution_count": 22,
   "id": "33ee1cef",
   "metadata": {},
   "outputs": [
    {
     "name": "stdout",
     "output_type": "stream",
     "text": [
      "Never gonna give you up \n",
      " Never gonna let you down \n",
      "\n"
     ]
    }
   ],
   "source": [
    "# multiline string \n",
    "message = 'Never gonna give you up  Never gonna let you down \\n'\n",
    "\n",
    "print(message)"
   ]
  },
  {
   "cell_type": "code",
   "execution_count": null,
   "id": "51933f8a",
   "metadata": {},
   "outputs": [],
   "source": [
    "### String Operations"
   ]
  },
  {
   "cell_type": "code",
   "execution_count": 23,
   "id": "e5aef711",
   "metadata": {},
   "outputs": [
    {
     "name": "stdout",
     "output_type": "stream",
     "text": [
      "False\n",
      "True\n"
     ]
    }
   ],
   "source": [
    "str1 = \"Hello, world!\"\n",
    "str2 = \"I love Python.\"\n",
    "str3 = \"Hello, world!\"\n",
    "\n",
    "# compare str1 and str2\n",
    "print(str1 == str2)\n",
    "\n",
    "# compare str1 and str3\n",
    "print(str1 == str3)"
   ]
  },
  {
   "cell_type": "code",
   "execution_count": 25,
   "id": "af2bc248",
   "metadata": {},
   "outputs": [
    {
     "name": "stdout",
     "output_type": "stream",
     "text": [
      "Hello, Jack\n"
     ]
    }
   ],
   "source": [
    "# Concatenation\n",
    "\n",
    "greet = \"Hello, \"\n",
    "name = \"Jack\"\n",
    "\n",
    "# using + operator\n",
    "result = greet + name\n",
    "print(result)\n",
    "\n",
    "# Output: Hello, Jack"
   ]
  },
  {
   "cell_type": "code",
   "execution_count": 34,
   "id": "626d27c8",
   "metadata": {},
   "outputs": [
    {
     "name": "stdout",
     "output_type": "stream",
     "text": [
      "H\n",
      "e\n",
      "l\n",
      "l\n",
      "o\n"
     ]
    }
   ],
   "source": [
    "# Iteration through a string \n",
    "\n",
    "greet = 'Hello'\n",
    "\n",
    "# iterating through greet string\n",
    "for letter in greet:\n",
    "    print(letter)"
   ]
  },
  {
   "cell_type": "code",
   "execution_count": 26,
   "id": "66097e8c",
   "metadata": {},
   "outputs": [
    {
     "name": "stdout",
     "output_type": "stream",
     "text": [
      "5\n"
     ]
    }
   ],
   "source": [
    "#String length\n",
    "\n",
    "greet = 'Hello'\n",
    "\n",
    "# count length of greet string\n",
    "print(len(greet))"
   ]
  },
  {
   "cell_type": "code",
   "execution_count": 29,
   "id": "0675fd41",
   "metadata": {},
   "outputs": [
    {
     "name": "stdout",
     "output_type": "stream",
     "text": [
      "True\n",
      "False\n"
     ]
    }
   ],
   "source": [
    "# String membership\n",
    "\n",
    "print('a' in 'program') # True\n",
    "print('at' not in 'battle') \n"
   ]
  },
  {
   "cell_type": "code",
   "execution_count": null,
   "id": "9a97b64b",
   "metadata": {},
   "outputs": [],
   "source": [
    "### Operations\n",
    "\n",
    "string = \"hello world\""
   ]
  },
  {
   "cell_type": "code",
   "execution_count": 30,
   "id": "30050ea0",
   "metadata": {},
   "outputs": [
    {
     "name": "stdout",
     "output_type": "stream",
     "text": [
      "HELLO WORLD\n"
     ]
    }
   ],
   "source": [
    "string = string.upper()\n",
    "print(string)"
   ]
  },
  {
   "cell_type": "code",
   "execution_count": 31,
   "id": "7991fb14",
   "metadata": {},
   "outputs": [
    {
     "name": "stdout",
     "output_type": "stream",
     "text": [
      "hello world\n"
     ]
    }
   ],
   "source": [
    "string = string.lower()\n",
    "print(string)"
   ]
  },
  {
   "cell_type": "code",
   "execution_count": null,
   "id": "b501eae0",
   "metadata": {},
   "outputs": [],
   "source": [
    "partition()  \t  returns a tuple\n",
    "replace()  \t  replaces substring inside\n",
    "find()  \t  returns the index of first occurrence of substring\n",
    "rstrip()  \t  removes trailing characters\n",
    "split()  \t  splits string from left\n",
    "startswith()  \t  checks if string starts with the specified string\n",
    "isnumeric()  \t  checks numeric characters\n",
    "index()  \t  returns index of substring"
   ]
  },
  {
   "cell_type": "code",
   "execution_count": 33,
   "id": "e17b554b",
   "metadata": {},
   "outputs": [
    {
     "name": "stdout",
     "output_type": "stream",
     "text": [
      "Cathy is from 8\n"
     ]
    }
   ],
   "source": [
    "name = 'Cathy'\n",
    "country = 8\n",
    "\n",
    "print(f'{name} is from {country}')"
   ]
  }
 ],
 "metadata": {
  "kernelspec": {
   "display_name": "Python 3 (ipykernel)",
   "language": "python",
   "name": "python3"
  },
  "language_info": {
   "codemirror_mode": {
    "name": "ipython",
    "version": 3
   },
   "file_extension": ".py",
   "mimetype": "text/x-python",
   "name": "python",
   "nbconvert_exporter": "python",
   "pygments_lexer": "ipython3",
   "version": "3.9.16"
  }
 },
 "nbformat": 4,
 "nbformat_minor": 5
}
