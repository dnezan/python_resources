{
 "cells": [
  {
   "cell_type": "code",
   "execution_count": 12,
   "id": "a08c661a",
   "metadata": {},
   "outputs": [
    {
     "data": {
      "text/plain": [
       "0    0.25\n",
       "1    0.50\n",
       "2    0.75\n",
       "3    1.00\n",
       "dtype: float64"
      ]
     },
     "execution_count": 12,
     "metadata": {},
     "output_type": "execute_result"
    }
   ],
   "source": [
    "import pandas as pd\n",
    "import numpy as np\n",
    "\n",
    "data = pd.Series([0.25, 0.5, 0.75, 1.0])\n",
    "data"
   ]
  },
  {
   "cell_type": "code",
   "execution_count": 14,
   "id": "5ef5254d",
   "metadata": {},
   "outputs": [
    {
     "data": {
      "text/plain": [
       "a    0.25\n",
       "b    0.50\n",
       "c    0.75\n",
       "d    1.00\n",
       "dtype: float64"
      ]
     },
     "execution_count": 14,
     "metadata": {},
     "output_type": "execute_result"
    }
   ],
   "source": [
    "data = pd.Series([0.25, 0.5, 0.75, 1.0],\n",
    "                 index=['a', 'b', 'c', 'd'])\n",
    "data"
   ]
  },
  {
   "cell_type": "code",
   "execution_count": 15,
   "id": "fcdaa9db",
   "metadata": {},
   "outputs": [
    {
     "data": {
      "text/plain": [
       "0.5"
      ]
     },
     "execution_count": 15,
     "metadata": {},
     "output_type": "execute_result"
    }
   ],
   "source": [
    "data['b']"
   ]
  },
  {
   "cell_type": "code",
   "execution_count": 16,
   "id": "28179a89",
   "metadata": {},
   "outputs": [
    {
     "data": {
      "text/plain": [
       "California      39538223\n",
       "Texas           29145505\n",
       "Florida         21538187\n",
       "New York        20201249\n",
       "Pennsylvania    13002700\n",
       "dtype: int64"
      ]
     },
     "execution_count": 16,
     "metadata": {},
     "output_type": "execute_result"
    }
   ],
   "source": [
    "population_dict = {'California': 39538223, 'Texas': 29145505,\n",
    "                   'Florida': 21538187, 'New York': 20201249,\n",
    "                   'Pennsylvania': 13002700}\n",
    "population = pd.Series(population_dict)\n",
    "population"
   ]
  },
  {
   "cell_type": "code",
   "execution_count": 17,
   "id": "9f4008af",
   "metadata": {},
   "outputs": [
    {
     "data": {
      "text/plain": [
       "39538223"
      ]
     },
     "execution_count": 17,
     "metadata": {},
     "output_type": "execute_result"
    }
   ],
   "source": [
    "population['California']"
   ]
  },
  {
   "cell_type": "code",
   "execution_count": null,
   "id": "f871f821",
   "metadata": {},
   "outputs": [],
   "source": [
    "'''\n",
    "A Data frame is a two-dimensional data structure, i.e., \n",
    "data is aligned in a tabular fashion in rows and columns. \n",
    "Pandas DataFrame consists of three principal components, the data, rows, and columns.\n",
    "'''"
   ]
  },
  {
   "cell_type": "code",
   "execution_count": 20,
   "id": "968eeac1",
   "metadata": {},
   "outputs": [
    {
     "name": "stdout",
     "output_type": "stream",
     "text": [
      "            State   Product  \\\n",
      "3141  West Bengal  10-26-26   \n",
      "3142  West Bengal  10-26-26   \n",
      "3143  West Bengal  10-26-26   \n",
      "3144  West Bengal  10-26-26   \n",
      "3145  West Bengal  10-26-26   \n",
      "\n",
      "                                                Company  Price per KG  \n",
      "3141                                     IFFCO Paradeep          22.7  \n",
      "3142                                     Indorama India          29.4  \n",
      "3143  Paradeep Phosphates Ltd (Erstwhile ZACL Goa Pl...          28.2  \n",
      "3144                                       PPL Paradeep          34.7  \n",
      "3145                                        RCF Trombay          29.4  \n"
     ]
    }
   ],
   "source": [
    "file = pd.read_csv(\"C:/Users/Dinesh.Sreekanthan/Downloads/fertiliser_price.csv\")\n",
    "print(file.tail())"
   ]
  },
  {
   "cell_type": "code",
   "execution_count": 21,
   "id": "f02c325d",
   "metadata": {},
   "outputs": [
    {
     "name": "stdout",
     "output_type": "stream",
     "text": [
      "0       Andaman and Nicobar Islands\n",
      "1       Andaman and Nicobar Islands\n",
      "2       Andaman and Nicobar Islands\n",
      "3       Andaman and Nicobar Islands\n",
      "4                    Andhra Pradesh\n",
      "                   ...             \n",
      "3141                    West Bengal\n",
      "3142                    West Bengal\n",
      "3143                    West Bengal\n",
      "3144                    West Bengal\n",
      "3145                    West Bengal\n",
      "Name: State, Length: 3146, dtype: object\n"
     ]
    }
   ],
   "source": [
    "print(file['State'])"
   ]
  }
 ],
 "metadata": {
  "kernelspec": {
   "display_name": "Python 3 (ipykernel)",
   "language": "python",
   "name": "python3"
  },
  "language_info": {
   "codemirror_mode": {
    "name": "ipython",
    "version": 3
   },
   "file_extension": ".py",
   "mimetype": "text/x-python",
   "name": "python",
   "nbconvert_exporter": "python",
   "pygments_lexer": "ipython3",
   "version": "3.9.16"
  }
 },
 "nbformat": 4,
 "nbformat_minor": 5
}
