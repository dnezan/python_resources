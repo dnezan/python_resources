{
 "cells": [
  {
   "cell_type": "code",
   "execution_count": null,
   "id": "7b5dc0ef",
   "metadata": {},
   "outputs": [],
   "source": [
    "#syntax\n",
    "\n",
    "def recurse():\n",
    "    recurse()\n",
    "    \n",
    "recurse()"
   ]
  },
  {
   "cell_type": "code",
   "execution_count": null,
   "id": "74974a2e",
   "metadata": {},
   "outputs": [],
   "source": [
    "def factorial(x):\n",
    "    \"\"\"This is a recursive function\n",
    "    to find the factorial of an integer\"\"\"\n",
    "\n",
    "    if x == 1:\n",
    "        return 1\n",
    "    else:\n",
    "        return (x * factorial(x-1))\n",
    "\n",
    "\n",
    "num = 3\n",
    "print(\"The factorial of\", num, \"is\", factorial(num))"
   ]
  }
 ],
 "metadata": {
  "kernelspec": {
   "display_name": "Python 3 (ipykernel)",
   "language": "python",
   "name": "python3"
  },
  "language_info": {
   "codemirror_mode": {
    "name": "ipython",
    "version": 3
   },
   "file_extension": ".py",
   "mimetype": "text/x-python",
   "name": "python",
   "nbconvert_exporter": "python",
   "pygments_lexer": "ipython3",
   "version": "3.9.16"
  }
 },
 "nbformat": 4,
 "nbformat_minor": 5
}
