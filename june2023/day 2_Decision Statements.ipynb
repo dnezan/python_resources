{
 "cells": [
  {
   "cell_type": "code",
   "execution_count": null,
   "id": "d53180f1",
   "metadata": {},
   "outputs": [],
   "source": [
    "if condition:\n",
    "   # Statements to execute if\n",
    "   # condition is true"
   ]
  },
  {
   "cell_type": "code",
   "execution_count": 4,
   "id": "eb3ffdc2",
   "metadata": {},
   "outputs": [
    {
     "name": "stdout",
     "output_type": "stream",
     "text": [
      "I am Not in if\n"
     ]
    }
   ],
   "source": [
    "#Indentation\n",
    "\n",
    "i = 10\n",
    "  \n",
    "if (i > 15):\n",
    "    print(\"10 is less than 15\")\n",
    "print(\"I am Not in if\")"
   ]
  },
  {
   "cell_type": "code",
   "execution_count": 5,
   "id": "4b80b5e8",
   "metadata": {},
   "outputs": [
    {
     "name": "stdout",
     "output_type": "stream",
     "text": [
      "i is greater than 15\n",
      "i'm in else Block\n",
      "i'm not in if and not in else Block\n"
     ]
    }
   ],
   "source": [
    "i = 20\n",
    "if (i < 15):\n",
    "    print(\"i is smaller than 15\")\n",
    "    print(\"i'm in if Block\")\n",
    "else:\n",
    "    print(\"i is greater than 15\")\n",
    "    print(\"i'm in else Block\")\n",
    "print(\"i'm not in if and not in else Block\")"
   ]
  },
  {
   "cell_type": "code",
   "execution_count": 2,
   "id": "73d90a39",
   "metadata": {},
   "outputs": [
    {
     "name": "stdout",
     "output_type": "stream",
     "text": [
      "[16, 3, 18, 18]\n"
     ]
    }
   ],
   "source": [
    "###Syntax of nested if-else\n",
    "\n",
    "if (condition1):\n",
    "   # Executes when condition1 is true\n",
    "   if (condition2): \n",
    "      # Executes when condition2 is true\n",
    "   # if Block is end here\n",
    "# if Block is end here"
   ]
  },
  {
   "cell_type": "code",
   "execution_count": 6,
   "id": "6d7103e3",
   "metadata": {},
   "outputs": [
    {
     "name": "stdout",
     "output_type": "stream",
     "text": [
      "i is smaller than 15\n",
      "i is smaller than 12 too\n"
     ]
    }
   ],
   "source": [
    "i = 10\n",
    "if (i == 10):\n",
    "    \n",
    "    #  First if statement\n",
    "    if (i < 15):\n",
    "        print(\"i is smaller than 15\")\n",
    "          \n",
    "    # Nested - if statement\n",
    "    # Will only be executed if statement above\n",
    "    # it is true\n",
    "    if (i < 12):\n",
    "        print(\"i is smaller than 12 too\")\n",
    "    else:\n",
    "        print(\"i is greater than 15\")"
   ]
  },
  {
   "cell_type": "code",
   "execution_count": null,
   "id": "78e2f0ec",
   "metadata": {},
   "outputs": [],
   "source": [
    "if (condition):\n",
    "    statement\n",
    "elif (condition):\n",
    "    statement\n",
    ".\n",
    ".\n",
    "else:\n",
    "    statement"
   ]
  },
  {
   "cell_type": "code",
   "execution_count": 7,
   "id": "6f9c2b53",
   "metadata": {},
   "outputs": [
    {
     "name": "stdout",
     "output_type": "stream",
     "text": [
      "i is 20\n"
     ]
    }
   ],
   "source": [
    "i = 20\n",
    "if (i == 10):\n",
    "    print(\"i is 10\")\n",
    "elif (i == 15):\n",
    "    print(\"i is 15\")\n",
    "elif (i == 20):\n",
    "    print(\"i is 20\")\n",
    "else:\n",
    "    print(\"i is not present\")"
   ]
  },
  {
   "cell_type": "code",
   "execution_count": null,
   "id": "dbbca4d8",
   "metadata": {},
   "outputs": [],
   "source": [
    "# Python program to illustrate short hand if\n",
    "i = 10\n",
    "if i < 15: print(\"i is less than 15\")"
   ]
  },
  {
   "cell_type": "code",
   "execution_count": null,
   "id": "a58748b9",
   "metadata": {},
   "outputs": [],
   "source": [
    "# Python program to illustrate short hand if-else\n",
    "i = 10\n",
    "print(True) if i < 15 else print(False)"
   ]
  }
 ],
 "metadata": {
  "kernelspec": {
   "display_name": "Python 3 (ipykernel)",
   "language": "python",
   "name": "python3"
  },
  "language_info": {
   "codemirror_mode": {
    "name": "ipython",
    "version": 3
   },
   "file_extension": ".py",
   "mimetype": "text/x-python",
   "name": "python",
   "nbconvert_exporter": "python",
   "pygments_lexer": "ipython3",
   "version": "3.9.16"
  }
 },
 "nbformat": 4,
 "nbformat_minor": 5
}
