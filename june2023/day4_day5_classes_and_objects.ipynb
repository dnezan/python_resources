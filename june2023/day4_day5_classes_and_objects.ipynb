{
 "cells": [
  {
   "cell_type": "markdown",
   "metadata": {
    "id": "dB2gTxKxv8gH"
   },
   "source": [
    "# What is a class?\n",
    "<br>A class is a template that defines the attributes and behaviour of objects. As we learned in our methods notebook, the properties of an object are described by its attributes and the behaviour is described by its methods."
   ]
  },
  {
   "cell_type": "code",
   "execution_count": null,
   "metadata": {},
   "outputs": [],
   "source": [
    "#Syntax\n",
    "class ClassName:\n",
    "    # class definition \n",
    "    \n",
    "obj = ClassName() #instance of a class"
   ]
  },
  {
   "cell_type": "code",
   "execution_count": 2,
   "metadata": {},
   "outputs": [
    {
     "name": "stdout",
     "output_type": "stream",
     "text": [
      "Name: Mountain Bike, Gears: 11 \n"
     ]
    }
   ],
   "source": [
    "# define a class\n",
    "class Bike:\n",
    "    name = \"\"\n",
    "    gear = 0\n",
    "\n",
    "# create object of class\n",
    "bike1 = Bike()\n",
    "\n",
    "# access attributes and assign new values\n",
    "bike1.gear = 11\n",
    "bike1.name = \"Mountain Bike\"\n",
    "\n",
    "print(f\"Name: {bike1.name}, Gears: {bike1.gear} \")"
   ]
  },
  {
   "cell_type": "code",
   "execution_count": 3,
   "metadata": {},
   "outputs": [
    {
     "name": "stdout",
     "output_type": "stream",
     "text": [
      "Area of Room = 1309.0\n"
     ]
    }
   ],
   "source": [
    "##Functions inside a class\n",
    "\n",
    "# create a class\n",
    "class Room:\n",
    "    length = 0.0\n",
    "    breadth = 0.0\n",
    "    \n",
    "    # method to calculate area\n",
    "    def calculate_area(self):\n",
    "        print(\"Area of Room =\", self.length * self.breadth)\n",
    "\n",
    "# create object of Room class\n",
    "study_room = Room()\n",
    "\n",
    "# assign values to all the attributes \n",
    "study_room.length = 42.5\n",
    "study_room.breadth = 30.8\n",
    "\n",
    "# access method inside class\n",
    "study_room.calculate_area()"
   ]
  },
  {
   "cell_type": "code",
   "execution_count": 4,
   "metadata": {
    "colab": {
     "base_uri": "https://localhost:8080/"
    },
    "id": "dDI3EVG0tcBO",
    "outputId": "4afd5136-86cb-4149-a18e-b050196dd647"
   },
   "outputs": [
    {
     "name": "stdout",
     "output_type": "stream",
     "text": [
      "The average speed of the cars is: 3.3333333333333335\n"
     ]
    }
   ],
   "source": [
    "class Car:\n",
    "    #class object attribute\n",
    "    driver = 'Vijay'\n",
    "    \n",
    "    def __init__(self, make, model, year):\n",
    "        self.make = make\n",
    "        self.model = model\n",
    "        self.year = year\n",
    "        self.speed = 0\n",
    "    \n",
    "    def accelerate(self):\n",
    "        self.speed += 10\n",
    "    \n",
    "    def brake(self):\n",
    "        self.speed -= 10\n",
    "    \n",
    "    def get_speed(self):\n",
    "        return self.speed\n",
    "    \n",
    "def calculate_average_speed(speeds):\n",
    "    total_speed = sum(speeds)\n",
    "    average_speed = total_speed / len(speeds)\n",
    "    return average_speed\n",
    "    \n",
    "def main():\n",
    "    car1 = Car(\"Maruti\", \"Swift\", 2020)\n",
    "    car2 = Car(\"Honda\", \"Civic\", 2021)\n",
    "    car3 = Car(\"Mahindra\", \"Bolero\", 2019)\n",
    "    \n",
    "    car1.accelerate()\n",
    "    car1.accelerate()\n",
    "    car1.brake()\n",
    "    \n",
    "    car2.accelerate()\n",
    "    car2.accelerate()\n",
    "    car2.accelerate()\n",
    "    car2.brake()\n",
    "    car2.brake()\n",
    "    \n",
    "    car3.accelerate()\n",
    "    car3.brake()\n",
    "    car3.brake()\n",
    "    \n",
    "    speeds = [car1.get_speed(), car2.get_speed(), car3.get_speed()]\n",
    "    average_speed = calculate_average_speed(speeds)\n",
    "    print(\"The average speed of the cars is:\", average_speed)\n",
    "\n",
    "if __name__ == '__main__':\n",
    "    main()\n"
   ]
  },
  {
   "cell_type": "markdown",
   "metadata": {
    "id": "7G-MgY82z4jS"
   },
   "source": [
    "# OOPS Concepts using Classes\n",
    "**Inheritence**"
   ]
  },
  {
   "cell_type": "code",
   "execution_count": null,
   "metadata": {},
   "outputs": [],
   "source": [
    "class Animal:\n",
    "\n",
    "    # attribute and method of the parent class\n",
    "    name = \"\"\n",
    "    \n",
    "    def eat(self):\n",
    "        print(\"I can eat\")\n",
    "\n",
    "# inherit from Animal\n",
    "class Dog(Animal):\n",
    "\n",
    "    # new method in subclass\n",
    "    def display(self):\n",
    "        # access name attribute of superclass using self\n",
    "        print(\"My name is \", self.name)\n",
    "\n",
    "# create an object of the subclass\n",
    "labrador = Dog()\n",
    "\n",
    "# access superclass attribute and method \n",
    "labrador.name = \"Rohu\"\n",
    "labrador.eat()\n",
    "\n",
    "# call subclass method \n",
    "labrador.display()"
   ]
  },
  {
   "cell_type": "code",
   "execution_count": 6,
   "metadata": {},
   "outputs": [],
   "source": [
    "#Method overriding\n",
    "\n",
    "class Animal:\n",
    "\n",
    "    # attributes and method of the parent class\n",
    "    name = \"\"\n",
    "    \n",
    "    def eat(self):\n",
    "        print(\"I can eat\")\n",
    "\n",
    "# inherit from Animal\n",
    "class Dog(Animal):\n",
    "\n",
    "    # override eat() method\n",
    "    def eat(self):\n",
    "        print(\"I like to eat bones\")\n",
    "\n",
    "# create an object of the subclass\n",
    "labrador = Dog()\n",
    "\n",
    "# call the eat() method on the labrador object\n",
    "labrador.eat()"
   ]
  },
  {
   "cell_type": "code",
   "execution_count": null,
   "metadata": {},
   "outputs": [],
   "source": [
    "## Super Method\n",
    "\n",
    "class Animal:\n",
    "\n",
    "    name = \"\"\n",
    "    \n",
    "    def eat(self):\n",
    "        print(\"I can eat\")\n",
    "\n",
    "# inherit from Animal\n",
    "class Dog(Animal):\n",
    "    \n",
    "    # override eat() method\n",
    "    def eat(self):\n",
    "        \n",
    "        # call the eat() method of the superclass using super()\n",
    "        super().eat()\n",
    "        \n",
    "        print(\"I like to eat bones\")\n",
    "\n",
    "# create an object of the subclass\n",
    "labrador = Dog()\n",
    "\n",
    "labrador.eat()"
   ]
  },
  {
   "cell_type": "code",
   "execution_count": 7,
   "metadata": {
    "colab": {
     "base_uri": "https://localhost:8080/"
    },
    "id": "tAFGxJTev73m",
    "outputId": "5591b90a-defa-4e82-98c5-2fd444187c57"
   },
   "outputs": [
    {
     "name": "stdout",
     "output_type": "stream",
     "text": [
      "The current speed is 50\n"
     ]
    }
   ],
   "source": [
    "class Car:\n",
    "    #class object attribute\n",
    "    driver = 'Vijay'\n",
    "    \n",
    "    def __init__(self, make, model, year):\n",
    "        self.make = make\n",
    "        self.model = model\n",
    "        self.year = year\n",
    "        self.speed = 0\n",
    "    \n",
    "    def accelerate(self):\n",
    "        self.speed += 10\n",
    "    \n",
    "    def brake(self):\n",
    "        self.speed -= 10\n",
    "    \n",
    "    def get_speed(self):\n",
    "        return self.speed\n",
    "\n",
    "class bmw(Car):\n",
    "    def __init__(self, make, model, year):\n",
    "        Car.__init__(self, make, model, year)\n",
    "    \n",
    "    def accelerate(self):\n",
    "        self.speed += 20\n",
    "    \n",
    "    def currentspeed(self):\n",
    "        print(\"The current speed is\",self.speed)\n",
    "\n",
    "\n",
    "x = bmw(\"bmw\", \"x-model\",2023)\n",
    "x.accelerate()\n",
    "x.accelerate()\n",
    "x.accelerate()\n",
    "x.brake()\n",
    "x.currentspeed()"
   ]
  },
  {
   "cell_type": "markdown",
   "metadata": {
    "id": "2R7fmSG17uNZ"
   },
   "source": [
    "Excercises<br>\n",
    "1. Write a Python class that has two methods: get_string() and print_string(). get_String() accepts a string from the user and print_String() prints the string in upper case. "
   ]
  },
  {
   "cell_type": "markdown",
   "metadata": {
    "id": "Qd2qJ8W28efE"
   },
   "source": [
    "2. Write a Python class Inventory with attributes like item_id, item_name, stock_count, and price, and methods like add_item, update_item, and check_item_details.\n",
    "Use a dictionary to store the item details, where the key is the item_id and the value is a dictionary containing the item_name, stock_count, and price."
   ]
  },
  {
   "cell_type": "code",
   "execution_count": null,
   "metadata": {
    "id": "2h6EXCMs7-ef"
   },
   "outputs": [],
   "source": []
  }
 ],
 "metadata": {
  "colab": {
   "provenance": []
  },
  "kernelspec": {
   "display_name": "Python 3 (ipykernel)",
   "language": "python",
   "name": "python3"
  },
  "language_info": {
   "codemirror_mode": {
    "name": "ipython",
    "version": 3
   },
   "file_extension": ".py",
   "mimetype": "text/x-python",
   "name": "python",
   "nbconvert_exporter": "python",
   "pygments_lexer": "ipython3",
   "version": "3.9.16"
  }
 },
 "nbformat": 4,
 "nbformat_minor": 1
}
