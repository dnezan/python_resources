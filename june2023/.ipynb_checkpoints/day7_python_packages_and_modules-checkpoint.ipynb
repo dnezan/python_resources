{
 "cells": [
  {
   "cell_type": "markdown",
   "metadata": {
    "id": "TELAea4o9sWO"
   },
   "source": [
    "First, we will create the file structure in our Google Drive. The following code will create the folder and the necessary files in a folder called \"python-practice\" in your Google Drive."
   ]
  },
  {
   "cell_type": "code",
   "execution_count": null,
   "metadata": {
    "colab": {
     "base_uri": "https://localhost:8080/"
    },
    "id": "fMhfGNNF42c_",
    "outputId": "e3a41490-b441-4e70-cc39-c96117a9ac98"
   },
   "outputs": [
    {
     "name": "stdout",
     "output_type": "stream",
     "text": [
      "Mounted at /content/drive\n",
      "/content/drive/My Drive\n",
      "mkdir: cannot create directory ‘python-practice’: File exists\n"
     ]
    }
   ],
   "source": [
    "from google.colab import drive\n",
    "drive.mount('/content/drive')\n",
    "%cd \"/content/drive/My Drive\"\n",
    "!mkdir python-practice"
   ]
  },
  {
   "cell_type": "code",
   "execution_count": null,
   "metadata": {
    "colab": {
     "base_uri": "https://localhost:8080/"
    },
    "id": "dSZFTIF9IEmO",
    "outputId": "802884b9-ab00-4139-bea7-363a12a47956"
   },
   "outputs": [
    {
     "name": "stdout",
     "output_type": "stream",
     "text": [
      "/content/drive/My Drive/python-practice\n",
      "main.py  mypackage\n",
      "mkdir: cannot create directory ‘mypackage’: File exists\n"
     ]
    }
   ],
   "source": [
    "%cd \"/content/drive/My Drive/python-practice\"\n",
    "!ls #this command will list all of the files in this directory, make sure it is empty at first\n",
    "\n",
    "#we will now create a subfolder named \"mypackage\"\n",
    "!mkdir mypackage"
   ]
  },
  {
   "cell_type": "markdown",
   "metadata": {
    "id": "7P_iGOxp_Og_"
   },
   "source": [
    "Create an empty Python file named `__init__.py` in this new folder. This is used to tell the Python interpreter that the folder and its subfolders are packages.<br><br>\n",
    "You can now begin to create your different packages. The use of packages is to ensure that our code is manageable, reusable and maintainable.\n",
    "<br>\n",
    "Create the following package files in this folder.\n",
    "\n",
    "\n"
   ]
  },
  {
   "cell_type": "markdown",
   "metadata": {
    "id": "N6slJl3__6CU"
   },
   "source": [
    "`math_operations.py`"
   ]
  },
  {
   "cell_type": "code",
   "execution_count": null,
   "metadata": {
    "id": "al818n-C-sYI"
   },
   "outputs": [],
   "source": [
    "def sum(x,y):\n",
    "    z=x+y\n",
    "    print(z)\n",
    "\n",
    "def average(x,y):\n",
    "    z=(x+y)/2\n",
    "    print(z)\n",
    "\n",
    "def power(x,y):\n",
    "    z=x**y\n",
    "    print(z)"
   ]
  },
  {
   "cell_type": "markdown",
   "metadata": {
    "id": "mfEKzffnAL15"
   },
   "source": [
    "Now, we have created a package called `math_operations.py` in our `mypackage`folder."
   ]
  },
  {
   "cell_type": "markdown",
   "metadata": {
    "id": "F5CwPrnP5x9X"
   },
   "source": [
    "# **Using our Package in our main Python file**\n",
    "\n",
    "Navigate back to our main folder in our Drive and create a main.py file. In this file, we will import our package and use the functions we have created in our math_operations package.\n",
    "\n"
   ]
  },
  {
   "cell_type": "markdown",
   "metadata": {
    "id": "MmUhYS5xA3sn"
   },
   "source": [
    "`main.py`"
   ]
  },
  {
   "cell_type": "code",
   "execution_count": 1,
   "metadata": {
    "colab": {
     "base_uri": "https://localhost:8080/",
     "height": 304
    },
    "id": "XCmwsM8-A9HA",
    "outputId": "51b33755-5a95-47a0-e494-3680d18da72e"
   },
   "outputs": [
    {
     "name": "stdout",
     "output_type": "stream",
     "text": [
      "9\n",
      "15.0\n",
      "9\n"
     ]
    }
   ],
   "source": [
    "from day7_mypackage import math_operations\n",
    "math_operations.sum(3,6)\n",
    "math_operations.average(10,20)\n",
    "math_operations.power(3,2)"
   ]
  },
  {
   "cell_type": "code",
   "execution_count": 4,
   "metadata": {},
   "outputs": [
    {
     "name": "stdout",
     "output_type": "stream",
     "text": [
      "9\n",
      "15.0\n",
      "9\n"
     ]
    }
   ],
   "source": [
    "from day7_mypackage.math_operations import sum\n",
    "from day7_mypackage.math_operations import average\n",
    "from day7_mypackage.math_operations import power \n",
    "#from day7_mypackage.math_operations import *\n",
    "\n",
    "sum(3,6)\n",
    "average(10,20)\n",
    "power(3,2)"
   ]
  },
  {
   "cell_type": "markdown",
   "metadata": {
    "id": "A8hG-JEQGYxN"
   },
   "source": [
    "Your folder structure will now look like this - \n",
    "```\n",
    ".\n",
    "└── content/drive/My Drive/python-practice/\n",
    "    ├── mypackage/\n",
    "    │   ├── __init__.py\n",
    "    │   └── math_operations.py\n",
    "    └── main.py\n",
    "\n",
    "```\n",
    "\n",
    "\n"
   ]
  },
  {
   "cell_type": "markdown",
   "metadata": {
    "id": "VLHQt9HAIEha"
   },
   "source": [
    "Now, run **main.py** which uses the package mypackage to use the functions to add, find average and find power of two numbers."
   ]
  },
  {
   "cell_type": "code",
   "execution_count": 3,
   "metadata": {
    "colab": {
     "base_uri": "https://localhost:8080/"
    },
    "id": "jF_bSEioBVYT",
    "outputId": "96a27c53-b2d2-43f0-faac-6a47016aed47"
   },
   "outputs": [
    {
     "name": "stderr",
     "output_type": "stream",
     "text": [
      "python: can't open file 'C:\\Users\\Dinesh.Sreekanthan\\PycharmProjects\\python_resources\\june2023\\main.py': [Errno 2] No such file or directory\n"
     ]
    }
   ],
   "source": [
    "!python3 main.py #code works in Google Colab"
   ]
  }
 ],
 "metadata": {
  "colab": {
   "provenance": []
  },
  "kernelspec": {
   "display_name": "Python 3 (ipykernel)",
   "language": "python",
   "name": "python3"
  },
  "language_info": {
   "codemirror_mode": {
    "name": "ipython",
    "version": 3
   },
   "file_extension": ".py",
   "mimetype": "text/x-python",
   "name": "python",
   "nbconvert_exporter": "python",
   "pygments_lexer": "ipython3",
   "version": "3.9.16"
  }
 },
 "nbformat": 4,
 "nbformat_minor": 1
}
