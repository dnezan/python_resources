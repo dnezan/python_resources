{
 "cells": [
  {
   "cell_type": "markdown",
   "metadata": {
    "id": "BDeqihkVZk6W"
   },
   "source": [
    "# What is Numpy?"
   ]
  },
  {
   "cell_type": "markdown",
   "metadata": {
    "id": "TVDvuKEyaQhn"
   },
   "source": [
    "Single dimensional array"
   ]
  },
  {
   "cell_type": "code",
   "execution_count": 2,
   "metadata": {
    "colab": {
     "base_uri": "https://localhost:8080/"
    },
    "id": "sUHs2k6nZije",
    "outputId": "71823b9b-c40b-4080-95d2-51d34713e4e2"
   },
   "outputs": [
    {
     "name": "stdout",
     "output_type": "stream",
     "text": [
      "List in python :  [1, 2, 3, 4]\n",
      "Numpy Array in python : [1 2 3 4]\n"
     ]
    }
   ],
   "source": [
    "# importing numpy module\n",
    "import numpy as np\n",
    " \n",
    "# creating list\n",
    "list = [1, 2, 3, 4]\n",
    " \n",
    "# creating numpy array\n",
    "sample_array = np.array(list)\n",
    " \n",
    "print(\"List in python : \", list)\n",
    " \n",
    "print(\"Numpy Array in python :\",sample_array)"
   ]
  },
  {
   "cell_type": "markdown",
   "metadata": {
    "id": "ZmgDAH_GaTGP"
   },
   "source": [
    "Multi dimensional array"
   ]
  },
  {
   "cell_type": "code",
   "execution_count": 3,
   "metadata": {
    "colab": {
     "base_uri": "https://localhost:8080/"
    },
    "id": "IplH0WrxaU_D",
    "outputId": "f5c06387-ffc8-409e-8f04-ed645e45fd20"
   },
   "outputs": [
    {
     "name": "stdout",
     "output_type": "stream",
     "text": [
      "Numpy multi dimensional array in python\n",
      " [[ 1  2  3  4]\n",
      " [ 5  6  7  8]\n",
      " [ 9 10 11 12]]\n"
     ]
    }
   ],
   "source": [
    "# importing numpy module\n",
    "import numpy as np\n",
    " \n",
    "# creating list\n",
    "list_1 = [1, 2, 3, 4]\n",
    "list_2 = [5, 6, 7, 8]\n",
    "list_3 = [9, 10, 11, 12]\n",
    " \n",
    "# creating numpy array\n",
    "sample_array = np.array([list_1,\n",
    "                         list_2,\n",
    "                         list_3])\n",
    " \n",
    "print(\"Numpy multi dimensional array in python\\n\",\n",
    "      sample_array)"
   ]
  },
  {
   "cell_type": "markdown",
   "metadata": {
    "id": "CxfCzN9danHn"
   },
   "source": [
    "**Shape** of an array is the number of elements across each dimension."
   ]
  },
  {
   "cell_type": "code",
   "execution_count": 6,
   "metadata": {
    "colab": {
     "base_uri": "https://localhost:8080/"
    },
    "id": "yo__EoiMauNo",
    "outputId": "1138ea79-86d5-4881-d468-bc6fd2f9c6b7"
   },
   "outputs": [
    {
     "name": "stdout",
     "output_type": "stream",
     "text": [
      "(3, 4)\n"
     ]
    }
   ],
   "source": [
    "print(sample_array.shape)"
   ]
  },
  {
   "cell_type": "markdown",
   "metadata": {
    "id": "ciPBzYtXbZou"
   },
   "source": [
    "**Datatype** of a numpy array"
   ]
  },
  {
   "cell_type": "code",
   "execution_count": 7,
   "metadata": {
    "colab": {
     "base_uri": "https://localhost:8080/"
    },
    "id": "Q1IpES5YbXPv",
    "outputId": "1a140dde-9c39-448e-f92c-6bbbf5107eae"
   },
   "outputs": [
    {
     "name": "stdout",
     "output_type": "stream",
     "text": [
      "int64\n"
     ]
    }
   ],
   "source": [
    "print(sample_array.dtype)"
   ]
  },
  {
   "cell_type": "markdown",
   "metadata": {
    "id": "LH0C95iKhSPH"
   },
   "source": [
    "Number of elements of the array using np.size"
   ]
  },
  {
   "cell_type": "code",
   "execution_count": 31,
   "metadata": {
    "colab": {
     "base_uri": "https://localhost:8080/"
    },
    "id": "Sld_4cAFhVZA",
    "outputId": "1f8fea8c-f282-4ae9-e419-d426654d26d5"
   },
   "outputs": [
    {
     "name": "stdout",
     "output_type": "stream",
     "text": [
      "12\n"
     ]
    }
   ],
   "source": [
    "print(sample_array.size)"
   ]
  },
  {
   "cell_type": "markdown",
   "metadata": {
    "id": "ziWxrxPTbmm2"
   },
   "source": [
    "`np.arange`<br>\n",
    "Syntax: numpy.arange([start, ]stop, [step, ]dtype=None)\n"
   ]
  },
  {
   "cell_type": "code",
   "execution_count": 15,
   "metadata": {
    "colab": {
     "base_uri": "https://localhost:8080/"
    },
    "id": "ilnGcPx7boAd",
    "outputId": "655a5614-cefc-44e0-9561-72bb0a559a27"
   },
   "outputs": [
    {
     "name": "stdout",
     "output_type": "stream",
     "text": [
      "[0 5]\n"
     ]
    }
   ],
   "source": [
    "import numpy as np\n",
    "\n",
    "list2 = np.arange(0,10,5)\n",
    "print(list2)"
   ]
  },
  {
   "cell_type": "markdown",
   "metadata": {
    "id": "D3z5Ls5qdVft"
   },
   "source": [
    "``np.linspace``<br>\n",
    "Syntax: numpy.linspace(start, stop, num=50, endpoint=True, retstep=False, dtype=None, axis=0)\n",
    "\n"
   ]
  },
  {
   "cell_type": "code",
   "execution_count": 14,
   "metadata": {
    "colab": {
     "base_uri": "https://localhost:8080/"
    },
    "id": "uWDH4GobdBh_",
    "outputId": "404df43a-f038-49bf-c9e6-1f815c7a8720"
   },
   "outputs": [
    {
     "name": "stdout",
     "output_type": "stream",
     "text": [
      "[ 0.   2.5  5.   7.5 10. ]\n"
     ]
    }
   ],
   "source": [
    "import numpy as np\n",
    "\n",
    "list2 = np.linspace(0,10,5)\n",
    "print(list2)"
   ]
  },
  {
   "cell_type": "markdown",
   "metadata": {
    "id": "5CW3W10zePhT"
   },
   "source": [
    "``np.empty``<br>\n",
    "Syntax: numpy.empty(shape, dtype=float, order=’C’)"
   ]
  },
  {
   "cell_type": "code",
   "execution_count": 1,
   "metadata": {
    "colab": {
     "base_uri": "https://localhost:8080/"
    },
    "id": "u07elUHNeCUV",
    "outputId": "4f7345c0-867f-42eb-d183-e93cc6874d72"
   },
   "outputs": [
    {
     "name": "stdout",
     "output_type": "stream",
     "text": [
      "[[2.12199579e-314 4.24399158e-314 4.24399158e-314 2.12199579e-314\n",
      "  0.00000000e+000]\n",
      " [0.00000000e+000 0.00000000e+000 0.00000000e+000 0.00000000e+000\n",
      "  0.00000000e+000]\n",
      " [0.00000000e+000 0.00000000e+000 0.00000000e+000 0.00000000e+000\n",
      "  0.00000000e+000]\n",
      " [0.00000000e+000 0.00000000e+000 0.00000000e+000 0.00000000e+000\n",
      "  0.00000000e+000]]\n"
     ]
    }
   ],
   "source": [
    "import numpy as np\n",
    "\n",
    "list2 = np.empty([4,5])\n",
    "print(list2)"
   ]
  },
  {
   "cell_type": "markdown",
   "metadata": {
    "id": "OuZcqHEmfT_p"
   },
   "source": [
    "``np.ones``<br>\n",
    "Syntax: numpy.ones(shape, dtype=None, order=’C’)"
   ]
  },
  {
   "cell_type": "code",
   "execution_count": 22,
   "metadata": {
    "colab": {
     "base_uri": "https://localhost:8080/"
    },
    "id": "46v40KFyfikN",
    "outputId": "076d125d-b59c-45d3-bf34-13e8ed1deacb"
   },
   "outputs": [
    {
     "name": "stdout",
     "output_type": "stream",
     "text": [
      "[[1. 1. 1. 1. 1.]\n",
      " [1. 1. 1. 1. 1.]\n",
      " [1. 1. 1. 1. 1.]\n",
      " [1. 1. 1. 1. 1.]]\n"
     ]
    }
   ],
   "source": [
    "import numpy as np\n",
    "\n",
    "list2 = np.ones([4,5])\n",
    "print(list2)"
   ]
  },
  {
   "cell_type": "markdown",
   "metadata": {
    "id": "Tak43isSfonA"
   },
   "source": [
    "``np.zeros``<br>\n",
    "Syntax: numpy.zeros(shape, dtype=None, order=’C’)"
   ]
  },
  {
   "cell_type": "code",
   "execution_count": 24,
   "metadata": {
    "colab": {
     "base_uri": "https://localhost:8080/"
    },
    "id": "7ijqmcBTfukn",
    "outputId": "5535b905-d7e5-4b23-b776-d21936cc3650"
   },
   "outputs": [
    {
     "name": "stdout",
     "output_type": "stream",
     "text": [
      "[[0. 0. 0. 0. 0.]\n",
      " [0. 0. 0. 0. 0.]\n",
      " [0. 0. 0. 0. 0.]\n",
      " [0. 0. 0. 0. 0.]]\n"
     ]
    }
   ],
   "source": [
    "import numpy as np\n",
    "\n",
    "list2 = np.zeros([4,5])\n",
    "print(list2)"
   ]
  },
  {
   "cell_type": "markdown",
   "metadata": {
    "id": "qTLlEF7fgJq2"
   },
   "source": [
    "Sorting using numpy arrays"
   ]
  },
  {
   "cell_type": "code",
   "execution_count": 25,
   "metadata": {
    "colab": {
     "base_uri": "https://localhost:8080/"
    },
    "id": "Bc4-Gw97gLvN",
    "outputId": "77b085f1-1f9c-47a5-a2a9-9ca041e9b319"
   },
   "outputs": [
    {
     "data": {
      "text/plain": [
       "array([1, 2, 3, 4, 5, 6, 7, 8])"
      ]
     },
     "execution_count": 25,
     "metadata": {},
     "output_type": "execute_result"
    }
   ],
   "source": [
    "arr = np.array([2, 1, 5, 3, 7, 4, 6, 8])\n",
    "np.sort(arr)"
   ]
  },
  {
   "cell_type": "markdown",
   "metadata": {
    "id": "wg3G3wPhgbFF"
   },
   "source": [
    "Concatenating two numpy arrays<br>\n",
    "`numpy.concatenate((a1, a2, ...), axis=0, out=None, dtype=None, casting=\"same_kind\")`\n"
   ]
  },
  {
   "cell_type": "code",
   "execution_count": 30,
   "metadata": {
    "colab": {
     "base_uri": "https://localhost:8080/"
    },
    "id": "XMJ0uhl_gdqZ",
    "outputId": "29270492-3e90-4abc-d9f2-665b740b65d8"
   },
   "outputs": [
    {
     "name": "stdout",
     "output_type": "stream",
     "text": [
      "[1 2 3 4 5 6 7 8]\n"
     ]
    }
   ],
   "source": [
    "a = np.array([1, 2, 3, 4])\n",
    "b = np.array([5, 6, 7, 8])\n",
    "c = np.concatenate((a,b))\n",
    "print(c)"
   ]
  },
  {
   "cell_type": "markdown",
   "metadata": {
    "id": "uOrItDjhhthA"
   },
   "source": [
    "# Indexing and slicing"
   ]
  },
  {
   "cell_type": "code",
   "execution_count": 35,
   "metadata": {
    "colab": {
     "base_uri": "https://localhost:8080/"
    },
    "id": "PSerY7hvhwxU",
    "outputId": "233c2457-5a52-4132-b618-935f35f09ece"
   },
   "outputs": [
    {
     "name": "stdout",
     "output_type": "stream",
     "text": [
      "2\n",
      "[1 2]\n"
     ]
    }
   ],
   "source": [
    "data = np.array([1, 2, 3])\n",
    "print(data[1])\n",
    "\n",
    "print(data[0:2])"
   ]
  },
  {
   "cell_type": "code",
   "execution_count": 53,
   "metadata": {
    "colab": {
     "base_uri": "https://localhost:8080/"
    },
    "id": "tPwHTbLXjJum",
    "outputId": "5bf4aac0-b01f-4ba1-88e6-46d54f2e1f71"
   },
   "outputs": [
    {
     "name": "stdout",
     "output_type": "stream",
     "text": [
      "[[ 1  2  3  4]\n",
      " [ 5  6  7  8]\n",
      " [ 9 10 11 12]]\n",
      "\n",
      "[1 2 3 4]\n"
     ]
    }
   ],
   "source": [
    "a = np.array([[1 , 2, 3, 4], [5, 6, 7, 8], [9, 10, 11, 12]])\n",
    "print(a)\n",
    "\n",
    "print('')\n",
    "print(a[a < 5])"
   ]
  },
  {
   "cell_type": "code",
   "execution_count": 54,
   "metadata": {
    "colab": {
     "base_uri": "https://localhost:8080/"
    },
    "id": "J4X-p7uwjY7a",
    "outputId": "c822254b-489e-498e-b9c0-582a9d0e3715"
   },
   "outputs": [
    {
     "name": "stdout",
     "output_type": "stream",
     "text": [
      "[ 5  6  7  8  9 10 11 12]\n"
     ]
    }
   ],
   "source": [
    "five_up = (a >= 5)\n",
    "print(a[five_up])"
   ]
  },
  {
   "cell_type": "code",
   "execution_count": 55,
   "metadata": {
    "colab": {
     "base_uri": "https://localhost:8080/"
    },
    "id": "_CmH8zfbjgKc",
    "outputId": "ac1a1d10-6e3f-462f-fc7f-857a61e22e35"
   },
   "outputs": [
    {
     "name": "stdout",
     "output_type": "stream",
     "text": [
      "[ 2  4  6  8 10 12]\n"
     ]
    }
   ],
   "source": [
    "divisible_by_2 = a[a%2==0]\n",
    "print(divisible_by_2)"
   ]
  },
  {
   "cell_type": "code",
   "execution_count": 41,
   "metadata": {
    "colab": {
     "base_uri": "https://localhost:8080/"
    },
    "id": "QjHqTibUjpCP",
    "outputId": "93392ab7-0fb2-4b47-fcba-ee65c983f8a5"
   },
   "outputs": [
    {
     "name": "stdout",
     "output_type": "stream",
     "text": [
      "[ 3  4  5  6  7  8  9 10]\n"
     ]
    }
   ],
   "source": [
    "c = a[(a > 2) & (a < 11)] #using or, and statments\n",
    "print(c)"
   ]
  },
  {
   "cell_type": "code",
   "execution_count": 56,
   "metadata": {
    "colab": {
     "base_uri": "https://localhost:8080/"
    },
    "id": "VughchuGj2m9",
    "outputId": "b026a848-77aa-4d58-b8b7-62f7b2b55f1a"
   },
   "outputs": [
    {
     "name": "stdout",
     "output_type": "stream",
     "text": [
      "[[False False False False]\n",
      " [ True  True  True  True]\n",
      " [ True  True  True  True]]\n"
     ]
    }
   ],
   "source": [
    "five_up = (a > 5) | (a == 5)\n",
    "print(five_up)"
   ]
  },
  {
   "cell_type": "code",
   "execution_count": 69,
   "metadata": {
    "colab": {
     "base_uri": "https://localhost:8080/"
    },
    "id": "wcy3HE1pkNEB",
    "outputId": "07baf21d-3178-4dac-f6c3-d79a1d09f6a3"
   },
   "outputs": [
    {
     "name": "stdout",
     "output_type": "stream",
     "text": [
      "78\n"
     ]
    }
   ],
   "source": [
    "a = np.array([[1 , 2, 3, 4], [5, 6, 7, 8], [9, 10, 11, 12]])\n",
    "print(a.sum())"
   ]
  },
  {
   "cell_type": "code",
   "execution_count": 58,
   "metadata": {
    "colab": {
     "base_uri": "https://localhost:8080/"
    },
    "id": "vsUwm-2WkYPA",
    "outputId": "3b817ff8-ddde-4e1c-ed34-030f4b351a2c"
   },
   "outputs": [
    {
     "name": "stdout",
     "output_type": "stream",
     "text": [
      "[2 4 6 8]\n"
     ]
    }
   ],
   "source": [
    "b = a*2\n",
    "print(b)"
   ]
  },
  {
   "cell_type": "code",
   "execution_count": 63,
   "metadata": {
    "colab": {
     "base_uri": "https://localhost:8080/"
    },
    "id": "MXR4C974kfU0",
    "outputId": "121c9564-b645-4143-c2a6-185eb0274c35"
   },
   "outputs": [
    {
     "name": "stdout",
     "output_type": "stream",
     "text": [
      "12\n"
     ]
    }
   ],
   "source": [
    "a = np.array([[1 , 2, 3, 4], [5, 6, 7, 8], [9, 10, 11, 12]])\n",
    "max_num = a.max()\n",
    "print(max_num) #can use min() similarly"
   ]
  },
  {
   "cell_type": "code",
   "execution_count": 67,
   "metadata": {
    "colab": {
     "base_uri": "https://localhost:8080/"
    },
    "id": "6GTRbACKk4ZN",
    "outputId": "9380bdae-c999-4c93-f5b2-16abb36a56eb",
    "scrolled": true
   },
   "outputs": [
    {
     "name": "stdout",
     "output_type": "stream",
     "text": [
      "[[ 1  2  3  4]\n",
      " [ 5  6  7  8]\n",
      " [ 9 10 11 12]]\n",
      "\n",
      "[[ 1  5  9]\n",
      " [ 2  6 10]\n",
      " [ 3  7 11]\n",
      " [ 4  8 12]]\n"
     ]
    }
   ],
   "source": [
    "a = np.array([[1 , 2, 3, 4], [5, 6, 7, 8], [9, 10, 11, 12]])\n",
    "print(a)\n",
    "print('')\n",
    "trans_arr = a.transpose()\n",
    "print(trans_arr)"
   ]
  },
  {
   "cell_type": "code",
   "execution_count": 50,
   "metadata": {
    "colab": {
     "base_uri": "https://localhost:8080/"
    },
    "id": "uNVET0c7lVe9",
    "outputId": "479cfbcd-494b-4e84-9b15-92175680f558"
   },
   "outputs": [
    {
     "name": "stdout",
     "output_type": "stream",
     "text": [
      "[8 6 4 2]\n"
     ]
    }
   ],
   "source": [
    "print(np.flip(b))"
   ]
  },
  {
   "cell_type": "code",
   "execution_count": 68,
   "metadata": {
    "colab": {
     "base_uri": "https://localhost:8080/"
    },
    "id": "7H37_Tclldsd",
    "outputId": "acaa3377-6003-41c1-a02d-8f68edcc7b48"
   },
   "outputs": [
    {
     "name": "stdout",
     "output_type": "stream",
     "text": [
      "[[ 1  2  3  4]\n",
      " [ 5  6  7  8]\n",
      " [ 9 10 11 12]]\n",
      "\n",
      "[ 1  2  3  4  5  6  7  8  9 10 11 12]\n"
     ]
    }
   ],
   "source": [
    "x = np.array([[1 , 2, 3, 4], [5, 6, 7, 8], [9, 10, 11, 12]])\n",
    "\n",
    "print(x)\n",
    "print('')\n",
    "print(x.flatten())"
   ]
  },
  {
   "cell_type": "markdown",
   "metadata": {
    "id": "Vr22ZKTEl1Tl"
   },
   "source": [
    "Reference - https://numpy.org/doc/stable/user/absolute_beginners.html"
   ]
  }
 ],
 "metadata": {
  "colab": {
   "provenance": []
  },
  "kernelspec": {
   "display_name": "Python 3 (ipykernel)",
   "language": "python",
   "name": "python3"
  },
  "language_info": {
   "codemirror_mode": {
    "name": "ipython",
    "version": 3
   },
   "file_extension": ".py",
   "mimetype": "text/x-python",
   "name": "python",
   "nbconvert_exporter": "python",
   "pygments_lexer": "ipython3",
   "version": "3.9.16"
  }
 },
 "nbformat": 4,
 "nbformat_minor": 1
}
