{
 "cells": [
  {
   "cell_type": "code",
   "execution_count": null,
   "id": "d9ab06f5",
   "metadata": {},
   "outputs": [],
   "source": [
    "# DataType Output: str\n",
    "x = \"Hello World\"\n",
    " \n",
    "# DataType Output: int\n",
    "x = 50\n",
    " \n",
    "# DataType Output: float\n",
    "x = 60.5\n",
    " \n",
    "# DataType Output: complex\n",
    "x = 3j\n",
    " \n",
    "# DataType Output: list\n",
    "x = [\"geeks\", \"for\", \"geeks\"]\n",
    " \n",
    "# DataType Output: tuple\n",
    "x = (\"geeks\", \"for\", \"geeks\")\n",
    " \n",
    "# DataType Output: range\n",
    "x = range(10)\n",
    " \n",
    "# DataType Output: dict\n",
    "x = {\"name\": \"Suraj\", \"age\": 24}\n",
    " \n",
    "# DataType Output: set\n",
    "x = {\"geeks\", \"for\", \"geeks\"}\n",
    " \n",
    "# DataType Output: frozenset\n",
    "x = frozenset({\"geeks\", \"for\", \"geeks\"})\n",
    " \n",
    "# DataType Output: bool\n",
    "x = True\n",
    " \n",
    "# DataType Output: bytes\n",
    "x = b\"Geeks\"\n",
    " \n",
    "# DataType Output: bytearray\n",
    "x = bytearray(4)\n",
    " \n",
    "# DataType Output: memoryview\n",
    "x = memoryview(bytes(6))\n",
    " \n",
    "# DataType Output: NoneType\n",
    "x = None"
   ]
  },
  {
   "cell_type": "code",
   "execution_count": 5,
   "id": "d7d973d9",
   "metadata": {},
   "outputs": [
    {
     "name": "stdout",
     "output_type": "stream",
     "text": [
      "<class 'float'>\n"
     ]
    }
   ],
   "source": [
    "x = 7.9\n",
    "print(type(x))"
   ]
  },
  {
   "cell_type": "code",
   "execution_count": 6,
   "id": "f145a628",
   "metadata": {},
   "outputs": [
    {
     "name": "stdout",
     "output_type": "stream",
     "text": [
      "50.0\n",
      "<class 'float'>\n"
     ]
    }
   ],
   "source": [
    "# Explicit type conversion\n",
    "\n",
    "x = 50\n",
    "y = float(x)\n",
    "print(y)\n",
    "print(type(y))"
   ]
  },
  {
   "cell_type": "code",
   "execution_count": null,
   "id": "6382a5b7",
   "metadata": {},
   "outputs": [],
   "source": []
  }
 ],
 "metadata": {
  "kernelspec": {
   "display_name": "Python 3 (ipykernel)",
   "language": "python",
   "name": "python3"
  },
  "language_info": {
   "codemirror_mode": {
    "name": "ipython",
    "version": 3
   },
   "file_extension": ".py",
   "mimetype": "text/x-python",
   "name": "python",
   "nbconvert_exporter": "python",
   "pygments_lexer": "ipython3",
   "version": "3.9.16"
  }
 },
 "nbformat": 4,
 "nbformat_minor": 5
}
