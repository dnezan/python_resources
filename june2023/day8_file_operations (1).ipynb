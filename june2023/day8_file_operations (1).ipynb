{
 "cells": [
  {
   "cell_type": "code",
   "execution_count": 2,
   "metadata": {
    "colab": {
     "base_uri": "https://localhost:8080/"
    },
    "id": "fMhfGNNF42c_",
    "outputId": "117d965d-813c-4c29-e2f3-223218f9c1a3"
   },
   "outputs": [
    {
     "name": "stdout",
     "output_type": "stream",
     "text": [
      "Drive already mounted at /content/drive; to attempt to forcibly remount, call drive.mount(\"/content/drive\", force_remount=True).\n",
      "/content/drive/My Drive\n",
      "mkdir: cannot create directory ‘python-practice’: File exists\n"
     ]
    }
   ],
   "source": [
    "from google.colab import drive\n",
    "drive.mount('/content/drive')\n",
    "%cd \"/content/drive/My Drive\"\n",
    "!mkdir python-practice"
   ]
  },
  {
   "cell_type": "code",
   "execution_count": 4,
   "metadata": {
    "colab": {
     "base_uri": "https://localhost:8080/"
    },
    "id": "dSZFTIF9IEmO",
    "outputId": "493cbf3a-dabe-4400-f248-cb86110394d1"
   },
   "outputs": [
    {
     "name": "stdout",
     "output_type": "stream",
     "text": [
      "/content/drive/My Drive/python-practice\n",
      "file.txt\n"
     ]
    }
   ],
   "source": [
    "%cd \"/content/drive/My Drive/python-practice\"\n",
    "!ls\n",
    "\n",
    "#make sure to have a text file in your directory called file.txt"
   ]
  },
  {
   "cell_type": "markdown",
   "metadata": {
    "id": "F5CwPrnP5x9X"
   },
   "source": [
    "# **File Operations in Python**\n",
    "We will go over various file operations in Python including the following.\n",
    "\n",
    "1.   Opening a file\n",
    "2.   Reading a file\n",
    "3.   Writing to a file\n",
    "4.   Copying a file\n",
    "\n"
   ]
  },
  {
   "cell_type": "markdown",
   "metadata": {
    "id": "Hrsu2IQh5dc2"
   },
   "source": [
    "# Opening a file<br>\n",
    "**open(filename, readmode)**\n",
    "## Common read modes<br>\n",
    "‘r’ : This mode indicate that file will be open for reading only<br>\n",
    "‘w’ : This mode indicate that file will be open for writing only. If file containing containing that name does not exists, it will create a new one<br>\n",
    "‘a’ : This mode indicate that the output of that program will be append to the previous output of that <br>\n",
    "‘r+’ : This mode indicate that file will be open for both reading and writing"
   ]
  },
  {
   "cell_type": "code",
   "execution_count": 18,
   "metadata": {
    "colab": {
     "base_uri": "https://localhost:8080/"
    },
    "id": "RVkh_taa6B6X",
    "outputId": "336b27ed-310f-4e49-c13b-943f30b32ba2"
   },
   "outputs": [
    {
     "name": "stdout",
     "output_type": "stream",
     "text": [
      "<_io.TextIOWrapper name='file.txt' mode='r' encoding='cp1252'>\n"
     ]
    }
   ],
   "source": [
    "text_file = open('file.txt','r')\n",
    "print(text_file)"
   ]
  },
  {
   "cell_type": "markdown",
   "metadata": {
    "id": "zoZFuTQe5kE-"
   },
   "source": [
    "# Reading a file<br>\n",
    "read() : This function reads the entire file and returns a string<br>\n",
    "readline() : This function reads lines from that file and returns as a string.<br>\n",
    "readlines() : This function returns a list where each element is single line of that file."
   ]
  },
  {
   "cell_type": "code",
   "execution_count": 19,
   "metadata": {
    "colab": {
     "base_uri": "https://localhost:8080/"
    },
    "id": "IUUNvmT1JBGK",
    "outputId": "cc8b1175-d7a8-41da-d043-e02fdc590581"
   },
   "outputs": [
    {
     "name": "stdout",
     "output_type": "stream",
     "text": [
      "hello world\n"
     ]
    }
   ],
   "source": [
    "read_file = text_file.read()\n",
    "print(read_file)\n",
    "\n",
    "#read_file2 = text_file.readlines()\n",
    "#for line in read_file2:\n",
    "#    print(line)\n",
    "\n",
    "text_file.close()"
   ]
  },
  {
   "cell_type": "markdown",
   "metadata": {
    "id": "6rrXHya35ofA"
   },
   "source": [
    "# Writing to a file<br>\n",
    "write() : This function writes a fixed sequence of characters to a file.<br>\n",
    "writelines() : This function writes a list of string.<br>\n",
    "append() : This function append string to the file instead of overwriting the file.<br>"
   ]
  },
  {
   "cell_type": "code",
   "execution_count": 21,
   "metadata": {
    "id": "SF1unPPhKhLc"
   },
   "outputs": [],
   "source": [
    "text_file = open('file.txt','w')\n",
    "list=\"sample text\"\n",
    "text_file.write(list)\n",
    "text_file.close()"
   ]
  },
  {
   "cell_type": "code",
   "execution_count": 23,
   "metadata": {
    "id": "f-Q5nNOfLstn"
   },
   "outputs": [],
   "source": [
    "text_file = open('file.txt','a') #appending to the file\n",
    "list=\"Asample text\"\n",
    "text_file.write(list)\n",
    "text_file.close()"
   ]
  },
  {
   "cell_type": "markdown",
   "metadata": {
    "id": "JeApyemt5sF7"
   },
   "source": [
    "# Copying a file<br>\n",
    "You can use various functions from the library `shutil` to copy files in Python.<br>\n",
    "`copy2` will preserve metadata such as modified date, created date, etc.<br>\n",
    "`copyfile` and `copy` will not preserve any metadata and are the most efficient ways to duplicate files."
   ]
  },
  {
   "cell_type": "code",
   "execution_count": 24,
   "metadata": {
    "colab": {
     "base_uri": "https://localhost:8080/",
     "height": 36
    },
    "id": "HLfm7F1qMmgz",
    "outputId": "69c13d40-6c94-4900-ad53-d4b512087d8d"
   },
   "outputs": [
    {
     "data": {
      "text/plain": [
       "'copied_file.txt'"
      ]
     },
     "execution_count": 24,
     "metadata": {},
     "output_type": "execute_result"
    }
   ],
   "source": [
    "import shutil\n",
    "\n",
    "shutil.copyfile('file.txt', 'copied_file.txt')"
   ]
  }
 ],
 "metadata": {
  "colab": {
   "provenance": []
  },
  "kernelspec": {
   "display_name": "Python 3 (ipykernel)",
   "language": "python",
   "name": "python3"
  },
  "language_info": {
   "codemirror_mode": {
    "name": "ipython",
    "version": 3
   },
   "file_extension": ".py",
   "mimetype": "text/x-python",
   "name": "python",
   "nbconvert_exporter": "python",
   "pygments_lexer": "ipython3",
   "version": "3.9.16"
  }
 },
 "nbformat": 4,
 "nbformat_minor": 1
}
