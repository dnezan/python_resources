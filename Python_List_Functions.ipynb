{
  "cells": [
    {
      "cell_type": "code",
      "source": [
        "l1=[1,2,3,4,5,5]\n",
        "l2=[6,7,8,1]"
      ],
      "metadata": {
        "id": "hJO3Hk1ruPfC"
      },
      "execution_count": null,
      "outputs": []
    },
    {
      "cell_type": "markdown",
      "source": [
        "**append**"
      ],
      "metadata": {
        "id": "stB-W2D21AJH"
      }
    },
    {
      "cell_type": "code",
      "source": [
        "'''\n",
        "It will add the element in end of the list\n",
        "Syntax : list.append(element)\n",
        "'''\n",
        "l1.append(6)\n",
        "print(l1)"
      ],
      "metadata": {
        "id": "atmdBzjNuSEt",
        "outputId": "5f8167be-500d-4c9c-b718-e50b8c84c452",
        "colab": {
          "base_uri": "https://localhost:8080/"
        }
      },
      "execution_count": null,
      "outputs": [
        {
          "output_type": "stream",
          "name": "stdout",
          "text": [
            "[1, 2, 3, 4, 5, 5, 6]\n"
          ]
        }
      ]
    },
    {
      "cell_type": "markdown",
      "source": [
        "**count**"
      ],
      "metadata": {
        "id": "qIKmgZ6W1GU4"
      }
    },
    {
      "cell_type": "code",
      "source": [
        "'''\n",
        "It will give the number of occurences of the particular element in the list\n",
        "Syntax : list.count(5)\n",
        "'''\n",
        "l1.count(5)"
      ],
      "metadata": {
        "id": "S0-g03TAuUwx",
        "outputId": "a6d58d9d-0bfd-4be7-bd4b-502bfce867d3",
        "colab": {
          "base_uri": "https://localhost:8080/"
        }
      },
      "execution_count": null,
      "outputs": [
        {
          "output_type": "execute_result",
          "data": {
            "text/plain": [
              "2"
            ]
          },
          "metadata": {},
          "execution_count": 126
        }
      ]
    },
    {
      "cell_type": "markdown",
      "source": [
        "**extend**"
      ],
      "metadata": {
        "id": "XlzAGYVk1MNl"
      }
    },
    {
      "cell_type": "code",
      "source": [
        "'''\n",
        "It will concatinate the elements of two lists\n",
        "Syntax : list1.extend(list2)\n",
        "'''\n",
        "l1.extend(l2)\n",
        "print(l1)"
      ],
      "metadata": {
        "id": "S2ERgpXBusNt",
        "outputId": "eca82dea-7132-44ae-fab5-03efdbe1d66e",
        "colab": {
          "base_uri": "https://localhost:8080/"
        }
      },
      "execution_count": null,
      "outputs": [
        {
          "output_type": "stream",
          "name": "stdout",
          "text": [
            "[1, 2, 3, 4, 5, 5, 6, 6, 7, 8, 1]\n"
          ]
        }
      ]
    },
    {
      "cell_type": "markdown",
      "source": [
        "**insert**"
      ],
      "metadata": {
        "id": "9XTCiKLa1P5E"
      }
    },
    {
      "cell_type": "code",
      "source": [
        "'''\n",
        "It will insert the element in the required index of the list\n",
        "Syntax : list.insert(index,element)\n",
        "'''\n",
        "l1.insert(5,8)\n",
        "print(l1)"
      ],
      "metadata": {
        "id": "Yu2xRy3tv5uZ",
        "outputId": "179bfd7f-0fdb-48fc-e8af-092e83a1c9be",
        "colab": {
          "base_uri": "https://localhost:8080/"
        }
      },
      "execution_count": null,
      "outputs": [
        {
          "output_type": "stream",
          "name": "stdout",
          "text": [
            "[1, 2, 3, 4, 5, 8, 5, 6, 6, 7, 8, 1]\n"
          ]
        }
      ]
    },
    {
      "cell_type": "markdown",
      "source": [
        "**pop**"
      ],
      "metadata": {
        "id": "uB1Lvr9L1U2S"
      }
    },
    {
      "cell_type": "code",
      "source": [
        "'''\n",
        "It will delete the element in the end of the list\n",
        "Syntax : list.pop()\n",
        "'''\n",
        "l1.pop()\n",
        "print(l1)"
      ],
      "metadata": {
        "id": "SjZtisTwucnE",
        "outputId": "432ff7be-6ea2-47b8-b5e4-8b83ff22094d",
        "colab": {
          "base_uri": "https://localhost:8080/"
        }
      },
      "execution_count": null,
      "outputs": [
        {
          "output_type": "stream",
          "name": "stdout",
          "text": [
            "[1, 2, 3, 4, 5, 8, 5, 6, 6, 7, 8]\n"
          ]
        }
      ]
    },
    {
      "cell_type": "markdown",
      "source": [
        "**remove**"
      ],
      "metadata": {
        "id": "HYPmjAZq1ZeX"
      }
    },
    {
      "cell_type": "code",
      "source": [
        "'''\n",
        "It will delete the particular element in the list\n",
        "Syntax : list.remove(element)\n",
        "'''\n",
        "l1.remove(1)\n",
        "print(l1)"
      ],
      "metadata": {
        "id": "w0rpXjkHyOlP",
        "outputId": "72a9eed5-cc2b-4404-d003-606e38f9ea50",
        "colab": {
          "base_uri": "https://localhost:8080/"
        }
      },
      "execution_count": null,
      "outputs": [
        {
          "output_type": "stream",
          "name": "stdout",
          "text": [
            "[2, 3, 4, 5, 8, 5, 6, 6, 7, 8]\n"
          ]
        }
      ]
    },
    {
      "cell_type": "markdown",
      "source": [
        "**reverse**"
      ],
      "metadata": {
        "id": "HHEVS5q71cBa"
      }
    },
    {
      "cell_type": "code",
      "source": [
        "'''\n",
        "It will reverse the list of elements\n",
        "Syntax : list.reverse()\n",
        "'''\n",
        "l1.reverse()\n",
        "print(l1)"
      ],
      "metadata": {
        "id": "dhroMqaTwNDM",
        "outputId": "962d9102-208b-45f3-ed1e-49f7815ae49f",
        "colab": {
          "base_uri": "https://localhost:8080/"
        }
      },
      "execution_count": null,
      "outputs": [
        {
          "output_type": "stream",
          "name": "stdout",
          "text": [
            "[8, 7, 6, 6, 5, 8, 5, 4, 3, 2]\n"
          ]
        }
      ]
    },
    {
      "cell_type": "markdown",
      "source": [
        "**sort**"
      ],
      "metadata": {
        "id": "amh44ATS1gNP"
      }
    },
    {
      "cell_type": "code",
      "source": [
        "'''\n",
        "It will arrange the list of elements in ascending order\n",
        "Syntax : list.sort()\n",
        "'''\n",
        "l1.sort()\n",
        "print(l1)"
      ],
      "metadata": {
        "id": "qfbM4WnPxm0G",
        "outputId": "67c6d1ea-ed8c-42c7-ce49-8010a33937a3",
        "colab": {
          "base_uri": "https://localhost:8080/"
        }
      },
      "execution_count": null,
      "outputs": [
        {
          "output_type": "stream",
          "name": "stdout",
          "text": [
            "[2, 3, 4, 5, 5, 6, 6, 7, 8, 8]\n"
          ]
        }
      ]
    },
    {
      "cell_type": "markdown",
      "source": [
        "**help**"
      ],
      "metadata": {
        "id": "HfZJcwpJ1rz1"
      }
    },
    {
      "cell_type": "code",
      "source": [
        "#It will give the explanation of particular function\n",
        "help(l1.count)"
      ],
      "metadata": {
        "id": "8yKSf1gWy7xB",
        "outputId": "3e1b3086-e4c1-4893-b99d-0d88568b065a",
        "colab": {
          "base_uri": "https://localhost:8080/"
        }
      },
      "execution_count": null,
      "outputs": [
        {
          "output_type": "stream",
          "name": "stdout",
          "text": [
            "Help on built-in function count:\n",
            "\n",
            "count(value, /) method of builtins.list instance\n",
            "    Return number of occurrences of value.\n",
            "\n"
          ]
        }
      ]
    }
  ],
  "metadata": {
    "colab": {
      "provenance": []
    },
    "kernelspec": {
      "display_name": "Python 3",
      "name": "python3"
    }
  },
  "nbformat": 4,
  "nbformat_minor": 0
}