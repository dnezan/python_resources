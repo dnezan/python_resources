{
  "nbformat": 4,
  "nbformat_minor": 0,
  "metadata": {
    "colab": {
      "provenance": []
    },
    "kernelspec": {
      "name": "python3",
      "display_name": "Python 3"
    },
    "language_info": {
      "name": "python"
    }
  },
  "cells": [
    {
      "cell_type": "markdown",
      "source": [
        "First, we will create the file structure in our Google Drive. The following code will create the folder and the necessary files in a folder called \"python-practice\" in your Google Drive."
      ],
      "metadata": {
        "id": "TELAea4o9sWO"
      }
    },
    {
      "cell_type": "code",
      "execution_count": null,
      "metadata": {
        "colab": {
          "base_uri": "https://localhost:8080/"
        },
        "id": "fMhfGNNF42c_",
        "outputId": "e3a41490-b441-4e70-cc39-c96117a9ac98"
      },
      "outputs": [
        {
          "output_type": "stream",
          "name": "stdout",
          "text": [
            "Mounted at /content/drive\n",
            "/content/drive/My Drive\n",
            "mkdir: cannot create directory ‘python-practice’: File exists\n"
          ]
        }
      ],
      "source": [
        "from google.colab import drive\n",
        "drive.mount('/content/drive')\n",
        "%cd \"/content/drive/My Drive\"\n",
        "!mkdir python-practice"
      ]
    },
    {
      "cell_type": "code",
      "source": [
        "%cd \"/content/drive/My Drive/python-practice\"\n",
        "!ls #this command will list all of the files in this directory, make sure it is empty at first\n",
        "\n",
        "#we will now create a subfolder named \"mypackage\"\n",
        "!mkdir mypackage"
      ],
      "metadata": {
        "colab": {
          "base_uri": "https://localhost:8080/"
        },
        "id": "dSZFTIF9IEmO",
        "outputId": "802884b9-ab00-4139-bea7-363a12a47956"
      },
      "execution_count": null,
      "outputs": [
        {
          "output_type": "stream",
          "name": "stdout",
          "text": [
            "/content/drive/My Drive/python-practice\n",
            "main.py  mypackage\n",
            "mkdir: cannot create directory ‘mypackage’: File exists\n"
          ]
        }
      ]
    },
    {
      "cell_type": "markdown",
      "source": [
        "Create an empty Python file named `__init__.py` in this new folder. This is used to tell the Python interpreter that the folder and its subfolders are packages.<br><br>\n",
        "You can now begin to create your different packages. The use of packages is to ensure that our code is manageable, reusable and maintainable.\n",
        "<br>\n",
        "Create the following package files in this folder.\n",
        "\n",
        "\n"
      ],
      "metadata": {
        "id": "7P_iGOxp_Og_"
      }
    },
    {
      "cell_type": "markdown",
      "source": [
        "`math_operations.py`"
      ],
      "metadata": {
        "id": "N6slJl3__6CU"
      }
    },
    {
      "cell_type": "code",
      "source": [
        "def sum(x,y):\n",
        "\tz=x+y\n",
        "\tprint(z)\n",
        "\n",
        "def average(x,y):\n",
        "\tz=(x+y)/2\n",
        "\tprint(z)\n",
        "\n",
        "def power(x,y):\n",
        "\tz=x**y\n",
        "\tprint(z)"
      ],
      "metadata": {
        "id": "al818n-C-sYI"
      },
      "execution_count": null,
      "outputs": []
    },
    {
      "cell_type": "markdown",
      "source": [
        "Now, we have created a package called `math_operations.py` in our `mypackage`folder."
      ],
      "metadata": {
        "id": "mfEKzffnAL15"
      }
    },
    {
      "cell_type": "markdown",
      "source": [
        "# **Using our Package in our main Python file**\n",
        "\n",
        "Navigate back to our main folder in our Drive and create a main.py file. In this file, we will import our package and use the functions we have created in our math_operations package.\n",
        "\n"
      ],
      "metadata": {
        "id": "F5CwPrnP5x9X"
      }
    },
    {
      "cell_type": "markdown",
      "source": [
        "`main.py`"
      ],
      "metadata": {
        "id": "MmUhYS5xA3sn"
      }
    },
    {
      "cell_type": "code",
      "source": [
        "from mypackage import math_operations\n",
        "math_operations.sum(3,6)\n",
        "math_operations.average(10,20)\n",
        "math_operations.power(3,2)"
      ],
      "metadata": {
        "colab": {
          "base_uri": "https://localhost:8080/",
          "height": 304
        },
        "id": "XCmwsM8-A9HA",
        "outputId": "51b33755-5a95-47a0-e494-3680d18da72e"
      },
      "execution_count": null,
      "outputs": [
        {
          "output_type": "error",
          "ename": "ImportError",
          "evalue": "ignored",
          "traceback": [
            "\u001b[0;31m---------------------------------------------------------------------------\u001b[0m",
            "\u001b[0;31mImportError\u001b[0m                               Traceback (most recent call last)",
            "\u001b[0;32m<ipython-input-9-9e95adf52a69>\u001b[0m in \u001b[0;36m<module>\u001b[0;34m\u001b[0m\n\u001b[0;32m----> 1\u001b[0;31m \u001b[0;32mfrom\u001b[0m \u001b[0mmypackage\u001b[0m \u001b[0;32mimport\u001b[0m \u001b[0mmath_operations\u001b[0m\u001b[0;34m\u001b[0m\u001b[0;34m\u001b[0m\u001b[0m\n\u001b[0m",
            "\u001b[0;31mImportError\u001b[0m: cannot import name 'math_operations' from 'mypackage' (unknown location)",
            "",
            "\u001b[0;31m---------------------------------------------------------------------------\u001b[0;32m\nNOTE: If your import is failing due to a missing package, you can\nmanually install dependencies using either !pip or !apt.\n\nTo view examples of installing some common dependencies, click the\n\"Open Examples\" button below.\n\u001b[0;31m---------------------------------------------------------------------------\u001b[0m\n"
          ],
          "errorDetails": {
            "actions": [
              {
                "action": "open_url",
                "actionText": "Open Examples",
                "url": "/notebooks/snippets/importing_libraries.ipynb"
              }
            ]
          }
        }
      ]
    },
    {
      "cell_type": "markdown",
      "source": [
        "Your folder structure will now look like this - \n",
        "```\n",
        ".\n",
        "└── content/drive/My Drive/python-practice/\n",
        "    ├── mypackage/\n",
        "    │   ├── __init__.py\n",
        "    │   └── math_operations.py\n",
        "    └── main.py\n",
        "\n",
        "```\n",
        "\n",
        "\n"
      ],
      "metadata": {
        "id": "A8hG-JEQGYxN"
      }
    },
    {
      "cell_type": "markdown",
      "source": [
        "Now, run **main.py** which uses the package mypackage to use the functions to add, find average and find power of two numbers."
      ],
      "metadata": {
        "id": "VLHQt9HAIEha"
      }
    },
    {
      "cell_type": "code",
      "source": [
        "!python3 main.py"
      ],
      "metadata": {
        "id": "jF_bSEioBVYT",
        "colab": {
          "base_uri": "https://localhost:8080/"
        },
        "outputId": "96a27c53-b2d2-43f0-faac-6a47016aed47"
      },
      "execution_count": null,
      "outputs": [
        {
          "output_type": "stream",
          "name": "stdout",
          "text": [
            "9\n",
            "15.0\n",
            "9\n"
          ]
        }
      ]
    }
  ]
}