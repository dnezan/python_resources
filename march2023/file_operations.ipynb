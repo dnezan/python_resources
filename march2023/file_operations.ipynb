{
  "nbformat": 4,
  "nbformat_minor": 0,
  "metadata": {
    "colab": {
      "provenance": []
    },
    "kernelspec": {
      "name": "python3",
      "display_name": "Python 3"
    },
    "language_info": {
      "name": "python"
    }
  },
  "cells": [
    {
      "cell_type": "code",
      "execution_count": 2,
      "metadata": {
        "colab": {
          "base_uri": "https://localhost:8080/"
        },
        "id": "fMhfGNNF42c_",
        "outputId": "117d965d-813c-4c29-e2f3-223218f9c1a3"
      },
      "outputs": [
        {
          "output_type": "stream",
          "name": "stdout",
          "text": [
            "Drive already mounted at /content/drive; to attempt to forcibly remount, call drive.mount(\"/content/drive\", force_remount=True).\n",
            "/content/drive/My Drive\n",
            "mkdir: cannot create directory ‘python-practice’: File exists\n"
          ]
        }
      ],
      "source": [
        "from google.colab import drive\n",
        "drive.mount('/content/drive')\n",
        "%cd \"/content/drive/My Drive\"\n",
        "!mkdir python-practice"
      ]
    },
    {
      "cell_type": "code",
      "source": [
        "%cd \"/content/drive/My Drive/python-practice\"\n",
        "!ls\n",
        "\n",
        "#make sure to have a text file in your directory called file.txt"
      ],
      "metadata": {
        "colab": {
          "base_uri": "https://localhost:8080/"
        },
        "id": "dSZFTIF9IEmO",
        "outputId": "493cbf3a-dabe-4400-f248-cb86110394d1"
      },
      "execution_count": 4,
      "outputs": [
        {
          "output_type": "stream",
          "name": "stdout",
          "text": [
            "/content/drive/My Drive/python-practice\n",
            "file.txt\n"
          ]
        }
      ]
    },
    {
      "cell_type": "markdown",
      "source": [
        "# **File Operations in Python**\n",
        "We will go over various file operations in Python including the following.\n",
        "\n",
        "1.   Opening a file\n",
        "2.   Reading a file\n",
        "3.   Writing to a file\n",
        "4.   Copying a file\n",
        "\n"
      ],
      "metadata": {
        "id": "F5CwPrnP5x9X"
      }
    },
    {
      "cell_type": "markdown",
      "source": [
        "# Opening a file<br>\n",
        "**open(filename, readmode)**\n",
        "## Common read modes<br>\n",
        "‘r’ : This mode indicate that file will be open for reading only<br>\n",
        "‘w’ : This mode indicate that file will be open for writing only. If file containing containing that name does not exists, it will create a new one<br>\n",
        "‘a’ : This mode indicate that the output of that program will be append to the previous output of that <br>\n",
        "‘r+’ : This mode indicate that file will be open for both reading and writing"
      ],
      "metadata": {
        "id": "Hrsu2IQh5dc2"
      }
    },
    {
      "cell_type": "code",
      "source": [
        "text_file = open('file.txt','r')\n",
        "print(text_file)"
      ],
      "metadata": {
        "colab": {
          "base_uri": "https://localhost:8080/"
        },
        "id": "RVkh_taa6B6X",
        "outputId": "336b27ed-310f-4e49-c13b-943f30b32ba2"
      },
      "execution_count": 20,
      "outputs": [
        {
          "output_type": "stream",
          "name": "stdout",
          "text": [
            "<_io.TextIOWrapper name='file.txt' mode='r' encoding='UTF-8'>\n"
          ]
        }
      ]
    },
    {
      "cell_type": "markdown",
      "source": [
        "# Reading a file<br>\n",
        "read() : This function reads the entire file and returns a string<br>\n",
        "readline() : This function reads lines from that file and returns as a string.<br>\n",
        "readlines() : This function returns a list where each element is single line of that file."
      ],
      "metadata": {
        "id": "zoZFuTQe5kE-"
      }
    },
    {
      "cell_type": "code",
      "source": [
        "read_file = text_file.read()\n",
        "print(read_file)\n",
        "\n",
        "#read_file2 = text_file.readlines()\n",
        "#for line in read_file2:\n",
        "#    print(line)\n",
        "\n",
        "text_file.close()"
      ],
      "metadata": {
        "colab": {
          "base_uri": "https://localhost:8080/"
        },
        "id": "IUUNvmT1JBGK",
        "outputId": "cc8b1175-d7a8-41da-d043-e02fdc590581"
      },
      "execution_count": 21,
      "outputs": [
        {
          "output_type": "stream",
          "name": "stdout",
          "text": [
            "hello world\n"
          ]
        }
      ]
    },
    {
      "cell_type": "markdown",
      "source": [
        "# Writing to a file<br>\n",
        "write() : This function writes a fixed sequence of characters to a file.<br>\n",
        "writelines() : This function writes a list of string.<br>\n",
        "append() : This function append string to the file instead of overwriting the file.<br>"
      ],
      "metadata": {
        "id": "6rrXHya35ofA"
      }
    },
    {
      "cell_type": "code",
      "source": [
        "text_file = open('file.txt','w')\n",
        "list=\"sample text\"\n",
        "text_file.write(list)\n",
        "text_file.close()"
      ],
      "metadata": {
        "id": "SF1unPPhKhLc"
      },
      "execution_count": 28,
      "outputs": []
    },
    {
      "cell_type": "code",
      "source": [
        "text_file = open('file.txt','a') #appending to the file\n",
        "list=\"sample text\"\n",
        "text_file.write(list)\n",
        "text_file.close()"
      ],
      "metadata": {
        "id": "f-Q5nNOfLstn"
      },
      "execution_count": 30,
      "outputs": []
    },
    {
      "cell_type": "markdown",
      "source": [
        "# Copying a file<br>\n",
        "You can use various functions from the library `shutil` to copy files in Python.<br>\n",
        "`copy2` will preserve metadata such as modified date, created date, etc.<br>\n",
        "`copyfile` and `copy` will not preserve any metadata and are the most efficient ways to duplicate files."
      ],
      "metadata": {
        "id": "JeApyemt5sF7"
      }
    },
    {
      "cell_type": "code",
      "source": [
        "import shutil\n",
        "\n",
        "shutil.copyfile('file.txt', 'copied_file.txt')"
      ],
      "metadata": {
        "colab": {
          "base_uri": "https://localhost:8080/",
          "height": 36
        },
        "id": "HLfm7F1qMmgz",
        "outputId": "69c13d40-6c94-4900-ad53-d4b512087d8d"
      },
      "execution_count": 31,
      "outputs": [
        {
          "output_type": "execute_result",
          "data": {
            "text/plain": [
              "'copied_file.txt'"
            ],
            "application/vnd.google.colaboratory.intrinsic+json": {
              "type": "string"
            }
          },
          "metadata": {},
          "execution_count": 31
        }
      ]
    }
  ]
}