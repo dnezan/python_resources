{
  "nbformat": 4,
  "nbformat_minor": 0,
  "metadata": {
    "colab": {
      "provenance": []
    },
    "kernelspec": {
      "name": "python3",
      "display_name": "Python 3"
    },
    "language_info": {
      "name": "python"
    }
  },
  "cells": [
    {
      "cell_type": "markdown",
      "source": [
        "## What are methods in Python?\n",
        "The properties of an object are described in **attributes** and the behaviour of an object is described in **methods**. There are three different types of methods -\n",
        "\n",
        "\n",
        "1.   Instance method\n",
        "2.   Class method\n",
        "3.   Static method\n",
        "\n"
      ],
      "metadata": {
        "id": "nzcf8cZCf6L0"
      }
    },
    {
      "cell_type": "code",
      "execution_count": 39,
      "metadata": {
        "colab": {
          "base_uri": "https://localhost:8080/",
          "height": 36
        },
        "id": "fgqinq06f2Um",
        "outputId": "a3503243-dd8c-413e-c787-1afd15d4476e"
      },
      "outputs": [
        {
          "output_type": "execute_result",
          "data": {
            "text/plain": [
              "'This is an example of an instance method a=2'"
            ],
            "application/vnd.google.colaboratory.intrinsic+json": {
              "type": "string"
            }
          },
          "metadata": {},
          "execution_count": 39
        }
      ],
      "source": [
        "class myclass():\n",
        "  def __init__(self, a, b): #constructor\n",
        "    self.a=a\n",
        "    self.b=b\n",
        "  \n",
        "  def instance_method(self,a):\n",
        "    return f\"This is an example of an instance method a={a}\"\n",
        "\n",
        "  @classmethod #decorator\n",
        "  def class_method(cls):\n",
        "    return \"This is an example of a class method\"\n",
        "\n",
        "  @staticmethod #decorator\n",
        "  def static_method(x,y):\n",
        "    #return f\"The sum is\",x+y\n",
        "    return x+y"
      ]
    },
    {
      "cell_type": "markdown",
      "source": [
        "**Instance Method**\n",
        "<br>\n",
        "An instance method is initialised using `self` as an arguement. This allows the method to access the attributes of the object.\n"
      ],
      "metadata": {
        "id": "_u62JKKwm0H3"
      }
    },
    {
      "cell_type": "code",
      "source": [
        "my_obj = myclass (2,4)  \n",
        "my_obj.instance_method(2)"
      ],
      "metadata": {
        "colab": {
          "base_uri": "https://localhost:8080/",
          "height": 36
        },
        "id": "bVE3DelumwQ_",
        "outputId": "4db58bfd-302d-4c89-f017-1509f9ba980c"
      },
      "execution_count": 41,
      "outputs": [
        {
          "output_type": "execute_result",
          "data": {
            "text/plain": [
              "'This is an example of an instance method a=2'"
            ],
            "application/vnd.google.colaboratory.intrinsic+json": {
              "type": "string"
            }
          },
          "metadata": {},
          "execution_count": 41
        }
      ]
    },
    {
      "cell_type": "markdown",
      "source": [
        "**Class Method**\n",
        "<br>\n",
        " A class method needs to have the `cls` arguement as a parameter. We can use any parameter name, but `cls` is used as per convention. We need to define static methods using the decorator `@classmethod`.<br>\n",
        "\n",
        " A class method cannot access the attributes of an object but it can access the attributes of the class."
      ],
      "metadata": {
        "id": "Qt4FjUjknvAS"
      }
    },
    {
      "cell_type": "code",
      "source": [
        "my_obj2 = myclass(3,6)\n",
        "my_obj2.class_method()"
      ],
      "metadata": {
        "colab": {
          "base_uri": "https://localhost:8080/",
          "height": 36
        },
        "id": "26v93SV8iHl6",
        "outputId": "4f26587e-6419-4c6b-8111-4e00c207a034"
      },
      "execution_count": 42,
      "outputs": [
        {
          "output_type": "execute_result",
          "data": {
            "text/plain": [
              "'This is an example of a class method'"
            ],
            "application/vnd.google.colaboratory.intrinsic+json": {
              "type": "string"
            }
          },
          "metadata": {},
          "execution_count": 42
        }
      ]
    },
    {
      "cell_type": "markdown",
      "source": [
        "**Static Method**\n",
        "<br>\n",
        " A static method can be initialised with no arguements. Therefore it cannot access or modify any attributes of the class or object. We need to define static methods using the decorator `@staticmethod`. <br>A common useage exammple of statuc methods is to define *utility functions*. For example, if we want a method to add two numbers, which is accessible throughout our code without initialising an object, we can define static methods."
      ],
      "metadata": {
        "id": "O_xBDPoXoRf2"
      }
    },
    {
      "cell_type": "code",
      "source": [
        "myclass.static_method(10,20)"
      ],
      "metadata": {
        "colab": {
          "base_uri": "https://localhost:8080/"
        },
        "id": "W3mAsc5klfTD",
        "outputId": "abab9d99-4dbd-48e9-b0a6-4d765590669b"
      },
      "execution_count": 40,
      "outputs": [
        {
          "output_type": "execute_result",
          "data": {
            "text/plain": [
              "30"
            ]
          },
          "metadata": {},
          "execution_count": 40
        }
      ]
    }
  ]
}