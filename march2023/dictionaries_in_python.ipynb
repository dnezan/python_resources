{
  "nbformat": 4,
  "nbformat_minor": 0,
  "metadata": {
    "colab": {
      "provenance": []
    },
    "kernelspec": {
      "name": "python3",
      "display_name": "Python 3"
    },
    "language_info": {
      "name": "python"
    }
  },
  "cells": [
    {
      "cell_type": "markdown",
      "source": [
        "# Dictionaries in Python<br>\n",
        "A dictionary in Python is  mapping between **key:value** pair.<br><br>\n",
        "*So when do we use dictionaries?*<br>\n",
        "Keys are unique and immutable, while values can be repeated. Keys are also case sensitive.\n"
      ],
      "metadata": {
        "id": "V8zTa4dyZtU4"
      }
    },
    {
      "cell_type": "code",
      "execution_count": 9,
      "metadata": {
        "colab": {
          "base_uri": "https://localhost:8080/"
        },
        "id": "yZepentdZl3m",
        "outputId": "6a9bd270-78b5-491e-e639-73e6edcbd965"
      },
      "outputs": [
        {
          "output_type": "stream",
          "name": "stdout",
          "text": [
            "{'A': 1, 'B': 2}\n"
          ]
        }
      ],
      "source": [
        "empty_dict = {}\n",
        "\n",
        "dict = {'A':1, 'B':2}\n",
        "print(dict)"
      ]
    },
    {
      "cell_type": "markdown",
      "source": [
        "Nested dictionaries"
      ],
      "metadata": {
        "id": "deNgvknYpE_k"
      }
    },
    {
      "cell_type": "code",
      "source": [
        "dict2 = {'A':1, 'B':2, 'C':{'D':3, 'E':4}}\n",
        "print(dict2)"
      ],
      "metadata": {
        "colab": {
          "base_uri": "https://localhost:8080/"
        },
        "id": "yelp1fIJpGhc",
        "outputId": "fa7bc256-5bd0-41aa-b563-ae2ddd783782"
      },
      "execution_count": 12,
      "outputs": [
        {
          "output_type": "stream",
          "name": "stdout",
          "text": [
            "{'A': 1, 'B': 2, 'C': {'D': 3, 'E': 4}}\n"
          ]
        }
      ]
    },
    {
      "cell_type": "markdown",
      "source": [
        "Updating a dictionary"
      ],
      "metadata": {
        "id": "vXW7ngk2pjnw"
      }
    },
    {
      "cell_type": "code",
      "source": [
        "dict2['A'] = 10\n",
        "print(dict2)"
      ],
      "metadata": {
        "colab": {
          "base_uri": "https://localhost:8080/"
        },
        "id": "jBtlZ3GOplAY",
        "outputId": "a122c54e-6849-4df9-9bc9-70703caa0063"
      },
      "execution_count": 13,
      "outputs": [
        {
          "output_type": "stream",
          "name": "stdout",
          "text": [
            "{'A': 10, 'B': 2, 'C': {'D': 3, 'E': 4}}\n"
          ]
        }
      ]
    },
    {
      "cell_type": "markdown",
      "source": [
        "# Functions using dictionaries\n",
        "<br>get() function"
      ],
      "metadata": {
        "id": "edXJzB7Sp8bl"
      }
    },
    {
      "cell_type": "code",
      "source": [
        "x = dict2.get('A')\n",
        "print(x)"
      ],
      "metadata": {
        "colab": {
          "base_uri": "https://localhost:8080/"
        },
        "id": "ecyqavy8p-wP",
        "outputId": "77e28c56-5220-4145-8b18-2caf4ebd33d9"
      },
      "execution_count": 16,
      "outputs": [
        {
          "output_type": "stream",
          "name": "stdout",
          "text": [
            "10\n"
          ]
        }
      ]
    },
    {
      "cell_type": "markdown",
      "source": [
        "copy()"
      ],
      "metadata": {
        "id": "lvACgoRVqjJN"
      }
    },
    {
      "cell_type": "code",
      "source": [
        "dict1 = {'A':1, 'B':2, 'C':{'D':3, 'E':4}}\n",
        "dict2 = dict1.copy()\n",
        "print(dict2)"
      ],
      "metadata": {
        "colab": {
          "base_uri": "https://localhost:8080/"
        },
        "id": "y5KWi5X7qkGZ",
        "outputId": "ebdae35e-f6c2-4a4c-d1ea-c01ead5d9234"
      },
      "execution_count": 17,
      "outputs": [
        {
          "output_type": "stream",
          "name": "stdout",
          "text": [
            "{'A': 1, 'B': 2, 'C': {'D': 3, 'E': 4}}\n"
          ]
        }
      ]
    },
    {
      "cell_type": "markdown",
      "source": [
        "clear()"
      ],
      "metadata": {
        "id": "3jpY3mPaqwP_"
      }
    },
    {
      "cell_type": "code",
      "source": [
        "dict2.clear()\n",
        "print(dict2)"
      ],
      "metadata": {
        "colab": {
          "base_uri": "https://localhost:8080/"
        },
        "id": "YxDYNCIwqxB9",
        "outputId": "8a701666-8126-4d49-a004-12d094e49347"
      },
      "execution_count": 18,
      "outputs": [
        {
          "output_type": "stream",
          "name": "stdout",
          "text": [
            "{}\n"
          ]
        }
      ]
    },
    {
      "cell_type": "markdown",
      "source": [
        "items()"
      ],
      "metadata": {
        "id": "ihwXG4KMq295"
      }
    },
    {
      "cell_type": "code",
      "source": [
        "print(dict1.items())"
      ],
      "metadata": {
        "colab": {
          "base_uri": "https://localhost:8080/"
        },
        "id": "Pi3gJ7eBq4SR",
        "outputId": "191abed5-2e30-4a76-fa03-73defdfa3232"
      },
      "execution_count": 19,
      "outputs": [
        {
          "output_type": "stream",
          "name": "stdout",
          "text": [
            "dict_items([('A', 1), ('B', 2), ('C', {'D': 3, 'E': 4})])\n"
          ]
        }
      ]
    },
    {
      "cell_type": "markdown",
      "source": [
        "pop()"
      ],
      "metadata": {
        "id": "5CmKuasSrBJh"
      }
    },
    {
      "cell_type": "code",
      "source": [
        "dict1.pop('A')\n",
        "print(dict1)"
      ],
      "metadata": {
        "colab": {
          "base_uri": "https://localhost:8080/"
        },
        "id": "oKj5jJ9QrAxv",
        "outputId": "f47d4216-5108-4804-cc2b-31a9e7793efd"
      },
      "execution_count": 20,
      "outputs": [
        {
          "output_type": "stream",
          "name": "stdout",
          "text": [
            "{'B': 2, 'C': {'D': 3, 'E': 4}}\n"
          ]
        }
      ]
    },
    {
      "cell_type": "markdown",
      "source": [
        "update()"
      ],
      "metadata": {
        "id": "MUO-YIZurQkw"
      }
    },
    {
      "cell_type": "code",
      "source": [
        "dict1.update({'B':21})\n",
        "print(dict1)"
      ],
      "metadata": {
        "colab": {
          "base_uri": "https://localhost:8080/"
        },
        "id": "6_tGIazDrRow",
        "outputId": "05254128-5a6c-4d20-b205-dffe143c36cc"
      },
      "execution_count": 22,
      "outputs": [
        {
          "output_type": "stream",
          "name": "stdout",
          "text": [
            "{'B': 21, 'C': {'D': 3, 'E': 4}}\n"
          ]
        }
      ]
    }
  ]
}