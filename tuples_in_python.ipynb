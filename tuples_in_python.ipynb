{
  "nbformat": 4,
  "nbformat_minor": 0,
  "metadata": {
    "colab": {
      "provenance": []
    },
    "kernelspec": {
      "name": "python3",
      "display_name": "Python 3"
    },
    "language_info": {
      "name": "python"
    }
  },
  "cells": [
    {
      "cell_type": "markdown",
      "source": [
        "# Tuples in Python<br>\n",
        "Python Tuple is a collection of objects separated by commas.<br><br>\n",
        "*So when do we use tuples and when do we use lists?*<br>\n",
        "Tuples are immutable, unlike lists, which means they cannot be modified after they have been created.\n"
      ],
      "metadata": {
        "id": "MKhr0a69Shdx"
      }
    },
    {
      "cell_type": "code",
      "execution_count": 1,
      "metadata": {
        "colab": {
          "base_uri": "https://localhost:8080/"
        },
        "id": "J3oDF7K5SGGc",
        "outputId": "b819398b-a912-409f-8f7b-7bfa7f3c98b4"
      },
      "outputs": [
        {
          "output_type": "stream",
          "name": "stdout",
          "text": [
            "('Some', 'random', 'text')\n"
          ]
        }
      ],
      "source": [
        "var = (\"Some\", \"random\", \"text\")\n",
        "print(var)"
      ]
    },
    {
      "cell_type": "code",
      "source": [
        "print(var[0])\n",
        "print(var[1])\n",
        "print(var[2])\n",
        "print(\"\")\n",
        "print(var[-1])\n",
        "print(var[-2])\n",
        "print(var[-3])"
      ],
      "metadata": {
        "colab": {
          "base_uri": "https://localhost:8080/"
        },
        "id": "_o8BBPykTUjy",
        "outputId": "de3747df-610c-4d35-9dc1-fe14cb84bfe5"
      },
      "execution_count": 6,
      "outputs": [
        {
          "output_type": "stream",
          "name": "stdout",
          "text": [
            "Some\n",
            "random\n",
            "text\n",
            "\n",
            "text\n",
            "random\n",
            "Some\n"
          ]
        }
      ]
    },
    {
      "cell_type": "markdown",
      "source": [
        "Concatenation"
      ],
      "metadata": {
        "id": "SzoDUjkgT1VZ"
      }
    },
    {
      "cell_type": "code",
      "source": [
        "var1 = (\"hello\")\n",
        "var2 = (\"world\")\n",
        "var3 = var1 + var2\n",
        "print(var3)"
      ],
      "metadata": {
        "colab": {
          "base_uri": "https://localhost:8080/"
        },
        "id": "bzVclx3DT3y-",
        "outputId": "97eeb84d-7e56-4f9d-feed-458b7f6a2f52"
      },
      "execution_count": 7,
      "outputs": [
        {
          "output_type": "stream",
          "name": "stdout",
          "text": [
            "helloworld\n"
          ]
        }
      ]
    },
    {
      "cell_type": "markdown",
      "source": [
        "Nesting"
      ],
      "metadata": {
        "id": "zcAxFJegUIPD"
      }
    },
    {
      "cell_type": "code",
      "source": [
        "var3 = (var1, var2)\n",
        "print(var3)"
      ],
      "metadata": {
        "colab": {
          "base_uri": "https://localhost:8080/"
        },
        "id": "JqXRoUJ5UHcQ",
        "outputId": "78dc2e31-9077-40da-ed61-cd9e32b85a13"
      },
      "execution_count": 8,
      "outputs": [
        {
          "output_type": "stream",
          "name": "stdout",
          "text": [
            "('hello', 'world')\n"
          ]
        }
      ]
    },
    {
      "cell_type": "markdown",
      "source": [
        "Splicing"
      ],
      "metadata": {
        "id": "6Obz5xyYUnIw"
      }
    },
    {
      "cell_type": "code",
      "source": [
        "var4 = (\"1\",\"2\",\"3\",\"4\")\n",
        "var5 = var4[:2]\n",
        "print(var5)\n",
        "\n",
        "print(\"\")\n",
        "\n",
        "var5 = var4[1:]\n",
        "print(var5)"
      ],
      "metadata": {
        "colab": {
          "base_uri": "https://localhost:8080/"
        },
        "id": "d-rkud2XUov8",
        "outputId": "d741c5d0-db5e-4236-d029-9ad056c29528"
      },
      "execution_count": 10,
      "outputs": [
        {
          "output_type": "stream",
          "name": "stdout",
          "text": [
            "('1', '2')\n",
            "\n",
            "('2', '3', '4')\n"
          ]
        }
      ]
    },
    {
      "cell_type": "markdown",
      "source": [
        "Deletion"
      ],
      "metadata": {
        "id": "tprgjp6JVaTF"
      }
    },
    {
      "cell_type": "code",
      "source": [
        "var6 = ( 0, 1)\n",
        "del var6\n",
        "print(var6)"
      ],
      "metadata": {
        "colab": {
          "base_uri": "https://localhost:8080/",
          "height": 200
        },
        "id": "de6G2VxWVcvd",
        "outputId": "a51002a3-8fbe-444f-d9e7-2e7ffe45523f"
      },
      "execution_count": 12,
      "outputs": [
        {
          "output_type": "error",
          "ename": "NameError",
          "evalue": "ignored",
          "traceback": [
            "\u001b[0;31m---------------------------------------------------------------------------\u001b[0m",
            "\u001b[0;31mNameError\u001b[0m                                 Traceback (most recent call last)",
            "\u001b[0;32m<ipython-input-12-3ce5dc7808bd>\u001b[0m in \u001b[0;36m<module>\u001b[0;34m\u001b[0m\n\u001b[1;32m      1\u001b[0m \u001b[0mvar6\u001b[0m \u001b[0;34m=\u001b[0m \u001b[0;34m(\u001b[0m \u001b[0;36m0\u001b[0m\u001b[0;34m,\u001b[0m \u001b[0;36m1\u001b[0m\u001b[0;34m)\u001b[0m\u001b[0;34m\u001b[0m\u001b[0;34m\u001b[0m\u001b[0m\n\u001b[1;32m      2\u001b[0m \u001b[0;32mdel\u001b[0m \u001b[0mvar6\u001b[0m\u001b[0;34m\u001b[0m\u001b[0;34m\u001b[0m\u001b[0m\n\u001b[0;32m----> 3\u001b[0;31m \u001b[0mprint\u001b[0m\u001b[0;34m(\u001b[0m\u001b[0mvar6\u001b[0m\u001b[0;34m)\u001b[0m\u001b[0;34m\u001b[0m\u001b[0;34m\u001b[0m\u001b[0m\n\u001b[0m",
            "\u001b[0;31mNameError\u001b[0m: name 'var6' is not defined"
          ]
        }
      ]
    },
    {
      "cell_type": "markdown",
      "source": [
        "Length of a tuple"
      ],
      "metadata": {
        "id": "kJJPeF1LVqig"
      }
    },
    {
      "cell_type": "code",
      "source": [
        "print(var3)\n",
        "print(len(var3))"
      ],
      "metadata": {
        "colab": {
          "base_uri": "https://localhost:8080/"
        },
        "id": "46du_V69VsC1",
        "outputId": "837ba314-3f28-4cc2-9acc-be1fada07bff"
      },
      "execution_count": 14,
      "outputs": [
        {
          "output_type": "stream",
          "name": "stdout",
          "text": [
            "('hello', 'world')\n",
            "2\n"
          ]
        }
      ]
    },
    {
      "cell_type": "code",
      "source": [
        "list_1 = [1,2,3]\n",
        "tuple_1 = tuple(list_1)\n",
        "print(tuple_1)"
      ],
      "metadata": {
        "colab": {
          "base_uri": "https://localhost:8080/"
        },
        "id": "4RtVpRu7WAAd",
        "outputId": "6e4a03a0-af5a-43c1-a29d-73282de77529"
      },
      "execution_count": 16,
      "outputs": [
        {
          "output_type": "stream",
          "name": "stdout",
          "text": [
            "(1, 2, 3)\n"
          ]
        }
      ]
    }
  ]
}